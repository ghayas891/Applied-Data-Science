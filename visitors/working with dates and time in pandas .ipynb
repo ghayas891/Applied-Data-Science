{
 "cells": [
  {
   "cell_type": "code",
   "execution_count": null,
   "metadata": {},
   "outputs": [],
   "source": [
    "import pandas as pd"
   ]
  },
  {
   "cell_type": "code",
   "execution_count": null,
   "metadata": {},
   "outputs": [],
   "source": [
    "visitors = pd.read_csv(\"visitors.csv\")"
   ]
  },
  {
   "cell_type": "code",
   "execution_count": 20,
   "metadata": {},
   "outputs": [
    {
     "data": {
      "text/html": [
       "<div>\n",
       "<style scoped>\n",
       "    .dataframe tbody tr th:only-of-type {\n",
       "        vertical-align: middle;\n",
       "    }\n",
       "\n",
       "    .dataframe tbody tr th {\n",
       "        vertical-align: top;\n",
       "    }\n",
       "\n",
       "    .dataframe thead th {\n",
       "        text-align: right;\n",
       "    }\n",
       "</style>\n",
       "<table border=\"1\" class=\"dataframe\">\n",
       "  <thead>\n",
       "    <tr style=\"text-align: right;\">\n",
       "      <th></th>\n",
       "      <th>name</th>\n",
       "      <th>appt_made_date</th>\n",
       "      <th>appt_start_date</th>\n",
       "      <th>appt_end_date</th>\n",
       "      <th>visitee_namelast</th>\n",
       "      <th>visitee_namefirst</th>\n",
       "      <th>meeting_room</th>\n",
       "      <th>description</th>\n",
       "    </tr>\n",
       "  </thead>\n",
       "  <tbody>\n",
       "    <tr>\n",
       "      <th>0</th>\n",
       "      <td>Joshua T. Blanton</td>\n",
       "      <td>2014-12-18T00:00:00</td>\n",
       "      <td>2015-01-06 09:30:00</td>\n",
       "      <td>2015-01-06 23:59:00</td>\n",
       "      <td>NaN</td>\n",
       "      <td>potus</td>\n",
       "      <td>west wing</td>\n",
       "      <td>JointService Military Honor Guard</td>\n",
       "    </tr>\n",
       "    <tr>\n",
       "      <th>1</th>\n",
       "      <td>Jack T. Gutting</td>\n",
       "      <td>2014-12-18T00:00:00</td>\n",
       "      <td>2015-01-06 09:30:00</td>\n",
       "      <td>2015-01-06 23:59:00</td>\n",
       "      <td>NaN</td>\n",
       "      <td>potus</td>\n",
       "      <td>west wing</td>\n",
       "      <td>JointService Military Honor Guard</td>\n",
       "    </tr>\n",
       "    <tr>\n",
       "      <th>2</th>\n",
       "      <td>Bradley T. Guiles</td>\n",
       "      <td>2014-12-18T00:00:00</td>\n",
       "      <td>2015-01-06 09:30:00</td>\n",
       "      <td>2015-01-06 23:59:00</td>\n",
       "      <td>NaN</td>\n",
       "      <td>potus</td>\n",
       "      <td>west wing</td>\n",
       "      <td>JointService Military Honor Guard</td>\n",
       "    </tr>\n",
       "    <tr>\n",
       "      <th>3</th>\n",
       "      <td>Loryn F. Grieb</td>\n",
       "      <td>2014-12-18T00:00:00</td>\n",
       "      <td>2015-01-06 09:30:00</td>\n",
       "      <td>2015-01-06 23:59:00</td>\n",
       "      <td>NaN</td>\n",
       "      <td>potus</td>\n",
       "      <td>west wing</td>\n",
       "      <td>JointService Military Honor Guard</td>\n",
       "    </tr>\n",
       "    <tr>\n",
       "      <th>4</th>\n",
       "      <td>Travis D. Gordon</td>\n",
       "      <td>2014-12-18T00:00:00</td>\n",
       "      <td>2015-01-06 09:30:00</td>\n",
       "      <td>2015-01-06 23:59:00</td>\n",
       "      <td>NaN</td>\n",
       "      <td>potus</td>\n",
       "      <td>west wing</td>\n",
       "      <td>JointService Military Honor Guard</td>\n",
       "    </tr>\n",
       "  </tbody>\n",
       "</table>\n",
       "</div>"
      ],
      "text/plain": [
       "                name       appt_made_date     appt_start_date  \\\n",
       "0  Joshua T. Blanton  2014-12-18T00:00:00 2015-01-06 09:30:00   \n",
       "1    Jack T. Gutting  2014-12-18T00:00:00 2015-01-06 09:30:00   \n",
       "2  Bradley T. Guiles  2014-12-18T00:00:00 2015-01-06 09:30:00   \n",
       "3     Loryn F. Grieb  2014-12-18T00:00:00 2015-01-06 09:30:00   \n",
       "4   Travis D. Gordon  2014-12-18T00:00:00 2015-01-06 09:30:00   \n",
       "\n",
       "        appt_end_date visitee_namelast visitee_namefirst meeting_room  \\\n",
       "0 2015-01-06 23:59:00              NaN             potus    west wing   \n",
       "1 2015-01-06 23:59:00              NaN             potus    west wing   \n",
       "2 2015-01-06 23:59:00              NaN             potus    west wing   \n",
       "3 2015-01-06 23:59:00              NaN             potus    west wing   \n",
       "4 2015-01-06 23:59:00              NaN             potus    west wing   \n",
       "\n",
       "                         description  \n",
       "0  JointService Military Honor Guard  \n",
       "1  JointService Military Honor Guard  \n",
       "2  JointService Military Honor Guard  \n",
       "3  JointService Military Honor Guard  \n",
       "4  JointService Military Honor Guard  "
      ]
     },
     "execution_count": 20,
     "metadata": {},
     "output_type": "execute_result"
    }
   ],
   "source": [
    "visitors.head()"
   ]
  },
  {
   "cell_type": "code",
   "execution_count": 21,
   "metadata": {},
   "outputs": [
    {
     "name": "stdout",
     "output_type": "stream",
     "text": [
      "<class 'pandas.core.frame.DataFrame'>\n",
      "RangeIndex: 47954 entries, 0 to 47953\n",
      "Data columns (total 8 columns):\n",
      " #   Column             Non-Null Count  Dtype         \n",
      "---  ------             --------------  -----         \n",
      " 0   name               47954 non-null  object        \n",
      " 1   appt_made_date     47954 non-null  object        \n",
      " 2   appt_start_date    47954 non-null  datetime64[ns]\n",
      " 3   appt_end_date      47954 non-null  datetime64[ns]\n",
      " 4   visitee_namelast   6069 non-null   object        \n",
      " 5   visitee_namefirst  47953 non-null  object        \n",
      " 6   meeting_room       47954 non-null  object        \n",
      " 7   description        8053 non-null   object        \n",
      "dtypes: datetime64[ns](2), object(6)\n",
      "memory usage: 2.9+ MB\n"
     ]
    }
   ],
   "source": [
    "visitors.info()"
   ]
  },
  {
   "cell_type": "code",
   "execution_count": 22,
   "metadata": {},
   "outputs": [],
   "source": [
    "visitors[\"appt_start_date\"] = pd.to_datetime(visitors[\"appt_start_date\"])"
   ]
  },
  {
   "cell_type": "code",
   "execution_count": 23,
   "metadata": {},
   "outputs": [
    {
     "name": "stdout",
     "output_type": "stream",
     "text": [
      "<class 'pandas.core.frame.DataFrame'>\n",
      "RangeIndex: 47954 entries, 0 to 47953\n",
      "Data columns (total 8 columns):\n",
      " #   Column             Non-Null Count  Dtype         \n",
      "---  ------             --------------  -----         \n",
      " 0   name               47954 non-null  object        \n",
      " 1   appt_made_date     47954 non-null  object        \n",
      " 2   appt_start_date    47954 non-null  datetime64[ns]\n",
      " 3   appt_end_date      47954 non-null  datetime64[ns]\n",
      " 4   visitee_namelast   6069 non-null   object        \n",
      " 5   visitee_namefirst  47953 non-null  object        \n",
      " 6   meeting_room       47954 non-null  object        \n",
      " 7   description        8053 non-null   object        \n",
      "dtypes: datetime64[ns](2), object(6)\n",
      "memory usage: 2.9+ MB\n"
     ]
    }
   ],
   "source": [
    "visitors.info()"
   ]
  },
  {
   "cell_type": "code",
   "execution_count": 24,
   "metadata": {},
   "outputs": [],
   "source": [
    "date_sample = \"1/6/15 9:30\"\n",
    "date_formate = \"%m/%d/%y %H:%M\""
   ]
  },
  {
   "cell_type": "code",
   "execution_count": 25,
   "metadata": {},
   "outputs": [],
   "source": [
    "visitors[\"appt_start_date\"] = pd.to_datetime(visitors[\"appt_start_date\"], format = date_formate)"
   ]
  },
  {
   "cell_type": "code",
   "execution_count": 26,
   "metadata": {},
   "outputs": [],
   "source": [
    "visitors[\"appt_end_date\"] = pd.to_datetime(visitors[\"appt_end_date\"], format = date_formate)"
   ]
  },
  {
   "cell_type": "code",
   "execution_count": 27,
   "metadata": {},
   "outputs": [
    {
     "data": {
      "text/html": [
       "<div>\n",
       "<style scoped>\n",
       "    .dataframe tbody tr th:only-of-type {\n",
       "        vertical-align: middle;\n",
       "    }\n",
       "\n",
       "    .dataframe tbody tr th {\n",
       "        vertical-align: top;\n",
       "    }\n",
       "\n",
       "    .dataframe thead th {\n",
       "        text-align: right;\n",
       "    }\n",
       "</style>\n",
       "<table border=\"1\" class=\"dataframe\">\n",
       "  <thead>\n",
       "    <tr style=\"text-align: right;\">\n",
       "      <th></th>\n",
       "      <th>name</th>\n",
       "      <th>appt_made_date</th>\n",
       "      <th>appt_start_date</th>\n",
       "      <th>appt_end_date</th>\n",
       "      <th>visitee_namelast</th>\n",
       "      <th>visitee_namefirst</th>\n",
       "      <th>meeting_room</th>\n",
       "      <th>description</th>\n",
       "    </tr>\n",
       "  </thead>\n",
       "  <tbody>\n",
       "    <tr>\n",
       "      <th>0</th>\n",
       "      <td>Joshua T. Blanton</td>\n",
       "      <td>2014-12-18T00:00:00</td>\n",
       "      <td>2015-01-06 09:30:00</td>\n",
       "      <td>2015-01-06 23:59:00</td>\n",
       "      <td>NaN</td>\n",
       "      <td>potus</td>\n",
       "      <td>west wing</td>\n",
       "      <td>JointService Military Honor Guard</td>\n",
       "    </tr>\n",
       "    <tr>\n",
       "      <th>1</th>\n",
       "      <td>Jack T. Gutting</td>\n",
       "      <td>2014-12-18T00:00:00</td>\n",
       "      <td>2015-01-06 09:30:00</td>\n",
       "      <td>2015-01-06 23:59:00</td>\n",
       "      <td>NaN</td>\n",
       "      <td>potus</td>\n",
       "      <td>west wing</td>\n",
       "      <td>JointService Military Honor Guard</td>\n",
       "    </tr>\n",
       "    <tr>\n",
       "      <th>2</th>\n",
       "      <td>Bradley T. Guiles</td>\n",
       "      <td>2014-12-18T00:00:00</td>\n",
       "      <td>2015-01-06 09:30:00</td>\n",
       "      <td>2015-01-06 23:59:00</td>\n",
       "      <td>NaN</td>\n",
       "      <td>potus</td>\n",
       "      <td>west wing</td>\n",
       "      <td>JointService Military Honor Guard</td>\n",
       "    </tr>\n",
       "    <tr>\n",
       "      <th>3</th>\n",
       "      <td>Loryn F. Grieb</td>\n",
       "      <td>2014-12-18T00:00:00</td>\n",
       "      <td>2015-01-06 09:30:00</td>\n",
       "      <td>2015-01-06 23:59:00</td>\n",
       "      <td>NaN</td>\n",
       "      <td>potus</td>\n",
       "      <td>west wing</td>\n",
       "      <td>JointService Military Honor Guard</td>\n",
       "    </tr>\n",
       "    <tr>\n",
       "      <th>4</th>\n",
       "      <td>Travis D. Gordon</td>\n",
       "      <td>2014-12-18T00:00:00</td>\n",
       "      <td>2015-01-06 09:30:00</td>\n",
       "      <td>2015-01-06 23:59:00</td>\n",
       "      <td>NaN</td>\n",
       "      <td>potus</td>\n",
       "      <td>west wing</td>\n",
       "      <td>JointService Military Honor Guard</td>\n",
       "    </tr>\n",
       "  </tbody>\n",
       "</table>\n",
       "</div>"
      ],
      "text/plain": [
       "                name       appt_made_date     appt_start_date  \\\n",
       "0  Joshua T. Blanton  2014-12-18T00:00:00 2015-01-06 09:30:00   \n",
       "1    Jack T. Gutting  2014-12-18T00:00:00 2015-01-06 09:30:00   \n",
       "2  Bradley T. Guiles  2014-12-18T00:00:00 2015-01-06 09:30:00   \n",
       "3     Loryn F. Grieb  2014-12-18T00:00:00 2015-01-06 09:30:00   \n",
       "4   Travis D. Gordon  2014-12-18T00:00:00 2015-01-06 09:30:00   \n",
       "\n",
       "        appt_end_date visitee_namelast visitee_namefirst meeting_room  \\\n",
       "0 2015-01-06 23:59:00              NaN             potus    west wing   \n",
       "1 2015-01-06 23:59:00              NaN             potus    west wing   \n",
       "2 2015-01-06 23:59:00              NaN             potus    west wing   \n",
       "3 2015-01-06 23:59:00              NaN             potus    west wing   \n",
       "4 2015-01-06 23:59:00              NaN             potus    west wing   \n",
       "\n",
       "                         description  \n",
       "0  JointService Military Honor Guard  \n",
       "1  JointService Military Honor Guard  \n",
       "2  JointService Military Honor Guard  \n",
       "3  JointService Military Honor Guard  \n",
       "4  JointService Military Honor Guard  "
      ]
     },
     "execution_count": 27,
     "metadata": {},
     "output_type": "execute_result"
    }
   ],
   "source": [
    "visitors.head()"
   ]
  },
  {
   "cell_type": "code",
   "execution_count": 28,
   "metadata": {},
   "outputs": [
    {
     "data": {
      "text/plain": [
       "0        Tuesday,January\n",
       "1        Tuesday,January\n",
       "2        Tuesday,January\n",
       "3        Tuesday,January\n",
       "4        Tuesday,January\n",
       "              ...       \n",
       "47949    Friday,December\n",
       "47950    Friday,December\n",
       "47951    Friday,December\n",
       "47952    Friday,December\n",
       "47953    Friday,December\n",
       "Name: appt_start_date, Length: 47954, dtype: object"
      ]
     },
     "execution_count": 28,
     "metadata": {},
     "output_type": "execute_result"
    }
   ],
   "source": [
    "visitors[\"appt_start_date\"].dt.strftime(\"%A,%B\")"
   ]
  },
  {
   "cell_type": "code",
   "execution_count": 29,
   "metadata": {},
   "outputs": [],
   "source": [
    "month_wise_data = visitors[\"appt_start_date\"].dt.strftime(\"%B %y\")"
   ]
  },
  {
   "cell_type": "code",
   "execution_count": 30,
   "metadata": {},
   "outputs": [
    {
     "data": {
      "text/plain": [
       "December 15     13029\n",
       "June 15          7743\n",
       "April 15         4996\n",
       "September 15     4416\n",
       "October 15       3669\n",
       "May 15           3013\n",
       "July 15          2930\n",
       "March 15         2262\n",
       "February 15      2165\n",
       "August 15        1350\n",
       "January 15       1248\n",
       "November 15      1133\n",
       "Name: appt_start_date, dtype: int64"
      ]
     },
     "execution_count": 30,
     "metadata": {},
     "output_type": "execute_result"
    }
   ],
   "source": [
    "month_wise_data.value_counts()"
   ]
  },
  {
   "cell_type": "code",
   "execution_count": 31,
   "metadata": {},
   "outputs": [],
   "source": [
    "length = visitors[\"appt_end_date\"]-visitors[\"appt_start_date\"]"
   ]
  },
  {
   "cell_type": "code",
   "execution_count": 32,
   "metadata": {},
   "outputs": [
    {
     "data": {
      "text/plain": [
       "0       0 days 14:29:00\n",
       "1       0 days 14:29:00\n",
       "2       0 days 14:29:00\n",
       "3       0 days 14:29:00\n",
       "4       0 days 14:29:00\n",
       "              ...      \n",
       "47949   0 days 07:29:00\n",
       "47950   0 days 07:29:00\n",
       "47951   0 days 07:29:00\n",
       "47952   0 days 07:29:00\n",
       "47953   0 days 07:29:00\n",
       "Length: 47954, dtype: timedelta64[ns]"
      ]
     },
     "execution_count": 32,
     "metadata": {},
     "output_type": "execute_result"
    }
   ],
   "source": [
    "length"
   ]
  },
  {
   "cell_type": "code",
   "execution_count": 33,
   "metadata": {},
   "outputs": [
    {
     "data": {
      "text/plain": [
       "Timedelta('16 days 12:59:00')"
      ]
     },
     "execution_count": 33,
     "metadata": {},
     "output_type": "execute_result"
    }
   ],
   "source": [
    "length.max()"
   ]
  },
  {
   "cell_type": "code",
   "execution_count": 34,
   "metadata": {},
   "outputs": [
    {
     "data": {
      "text/plain": [
       "Timedelta('0 days 02:29:00')"
      ]
     },
     "execution_count": 34,
     "metadata": {},
     "output_type": "execute_result"
    }
   ],
   "source": [
    "length.min()"
   ]
  },
  {
   "cell_type": "code",
   "execution_count": 36,
   "metadata": {},
   "outputs": [],
   "source": [
    "visitors.to_csv(\"date_time_clean_visitors.csv\")"
   ]
  },
  {
   "cell_type": "code",
   "execution_count": null,
   "metadata": {},
   "outputs": [],
   "source": []
  },
  {
   "cell_type": "code",
   "execution_count": null,
   "metadata": {},
   "outputs": [],
   "source": []
  }
 ],
 "metadata": {
  "kernelspec": {
   "display_name": "Python 3",
   "language": "python",
   "name": "python3"
  }
 },
 "nbformat": 4,
 "nbformat_minor": 4
}
