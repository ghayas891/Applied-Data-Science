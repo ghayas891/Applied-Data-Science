{
 "cells": [
  {
   "cell_type": "markdown",
   "metadata": {
    "id": "1989f4fc"
   },
   "source": [
    "# Virtual Garden"
   ]
  },
  {
   "cell_type": "code",
   "execution_count": null,
   "metadata": {
    "id": "a3c649c9"
   },
   "outputs": [],
   "source": [
    "class Plant:\n",
    "    def __init__(self, name, harvest_yield):\n",
    "        self.name = name\n",
    "        self.harvest_yield = harvest_yield\n",
    "        self.growth_stages = [\"seed\", \"sprout\", \"mature\", \"flower\", \"fruit\", \"harvest_ready\"]\n",
    "        self.current_stage = self.growth_stages[0]\n",
    "        self.harvestable = False\n",
    "\n",
    "    def grow(self):\n",
    "        current_index = self.growth_stages.index(self.current_stage)\n",
    "\n",
    "        if current_index < (len(self.growth_stages)-1):\n",
    "            self.current_stage = self.growth_stages[current_index + 1]\n",
    "            if self.current_stage == self.growth_stages[-1]:\n",
    "                self.harvestable = True\n",
    "\n",
    "        elif self.current_stage == self.growth_stages[-1]:\n",
    "            print(f\"{self.name} is already fully grown\")\n",
    "\n",
    "    def harvest(self):\n",
    "        if self.harvestable:\n",
    "            self.harvestable = False\n",
    "            return self.harvest_yield\n",
    "        else:\n",
    "            return None"
   ]
  },
  {
   "cell_type": "code",
   "execution_count": null,
   "metadata": {
    "id": "5dac0d45"
   },
   "outputs": [],
   "source": [
    "class Tomato(Plant):\n",
    "    def __init__(self):\n",
    "        super().__init__(\"Tomato\", 10)\n",
    "\n",
    "\n",
    "class Potato(Plant):\n",
    "    def __init__(self):\n",
    "        super().__init__(\"Potato\", 3)\n",
    "        self.growth_stages = [\"seed\", \"sprout\", \"mature\", \"harvest_ready\"]\n",
    "\n",
    "class Carrot(Plant):\n",
    "    def __init__(self):\n",
    "        super().__init__(\"Carrot\", 5)\n",
    "        self.growth_stages = [\"seed\", \"sprout\", \"mature\", \"harvest_ready\"]"
   ]
  },
  {
   "cell_type": "code",
   "execution_count": null,
   "metadata": {
    "id": "abf64abb"
   },
   "outputs": [],
   "source": [
    "import random\n",
    "\n",
    "seeds = [\"tomato\", \"potato\", \"carrot\"]"
   ]
  },
  {
   "cell_type": "code",
   "execution_count": null,
   "metadata": {
    "id": "d083bf28"
   },
   "outputs": [],
   "source": [
    "def select_seed(items): # here items will replace with an inventory dictionary\n",
    "    item_list = list(items.keys())\n",
    "\n",
    "    for i in range(len(item_list)):\n",
    "        item_name = item_list[i]\n",
    "        print(f\"{i+1}. {item_name}\")\n",
    "    print()\n",
    "    while True:\n",
    "        user_input = input(\"Select an item \")\n",
    "        try:\n",
    "            user_input = int(user_input)\n",
    "            if 0 <user_input <= len(item_list):\n",
    "                return item_list[user_input -1]\n",
    "            else:\n",
    "                print(\"Invalid Input\")\n",
    "        except:\n",
    "            print(\"Invalid Input\")"
   ]
  },
  {
   "cell_type": "code",
   "execution_count": null,
   "metadata": {
    "id": "2e4019bf"
   },
   "outputs": [],
   "source": [
    "class Gardener:\n",
    "    \"\"\"Represent a gardner who can plant and harvest plants.\"\"\"\n",
    "\n",
    "    plant_dict = {\"tomato\":Tomato, \"potato\": Potato, \"carrot\": Carrot}\n",
    "\n",
    "    def __init__(self, name):\n",
    "        self.name = name\n",
    "        self.inventory = {} # seed name and quantity\n",
    "        self.planted_plants = []\n",
    "\n",
    "    def get_seed(self):\n",
    "        seed = random.choice(seeds)\n",
    "\n",
    "        if seed not in self.inventory:\n",
    "            self.inventory[seed] = 1\n",
    "        else:\n",
    "            self.inventory[seed] += 1\n",
    "\n",
    "        print(f\"{self.name} has found the {seed} seed!\")\n",
    "\n",
    "    def plant(self):\n",
    "        selected_plant = select_seed(self.inventory)\n",
    "\n",
    "        if selected_plant in self.inventory and self.inventory[selected_plant] > 0:\n",
    "            self.inventory[selected_plant] -= 1\n",
    "            if self.inventory[selected_plant] == 0:\n",
    "                del self.inventory[selected_plant]\n",
    "            new_plant = self.plant_dict[selected_plant]()\n",
    "\n",
    "            self.planted_plants.append(new_plant)\n",
    "            print(f\"{self.name} has planted a {selected_plant} plant!\")\n",
    "\n",
    "        else:\n",
    "            print(f\"{self.name} does not have any {selected_plant} plant!\")\n",
    "\n",
    "    def tend(self):\n",
    "        for plant in self.planted_plants:\n",
    "            if not plant.harvestable:\n",
    "                plant.grow()\n",
    "                print(f\"{plant.name} is now on a {plant.current_stage} stage!\")\n",
    "            else:\n",
    "                print(f\"{plant.name} is ready to be harvested\")\n",
    "\n"
   ]
  },
  {
   "cell_type": "code",
   "execution_count": null,
   "metadata": {
    "id": "b14ba318",
    "outputId": "24cf8aee-cc49-4440-e0e4-cf41323bfd5e"
   },
   "outputs": [
    {
     "name": "stdout",
     "output_type": "stream",
     "text": [
      "Waqas has found the potato seed!\n"
     ]
    }
   ],
   "source": [
    "waqas = Gardener(\"Waqas\")\n",
    "\n",
    "waqas.get_seed()"
   ]
  },
  {
   "cell_type": "code",
   "execution_count": null,
   "metadata": {
    "id": "d8bcdf02",
    "outputId": "b74db209-447f-4525-c846-be6263c785f8"
   },
   "outputs": [
    {
     "data": {
      "text/plain": [
       "{'potato': 1}"
      ]
     },
     "execution_count": 11,
     "metadata": {},
     "output_type": "execute_result"
    }
   ],
   "source": [
    "waqas.inventory"
   ]
  },
  {
   "cell_type": "code",
   "execution_count": null,
   "metadata": {
    "id": "b2b8434a",
    "outputId": "dac0b613-cf4e-4e71-d2f1-4046972f4083"
   },
   "outputs": [
    {
     "name": "stdout",
     "output_type": "stream",
     "text": [
      "1. potato\n",
      "\n",
      "Select an item 1\n",
      "Waqas has planted a potato plant!\n"
     ]
    }
   ],
   "source": [
    "waqas.plant()"
   ]
  },
  {
   "cell_type": "code",
   "execution_count": null,
   "metadata": {
    "id": "374a17a8",
    "outputId": "7880dc24-2ca2-4143-9c8b-58bb2900fb72"
   },
   "outputs": [
    {
     "data": {
      "text/plain": [
       "{}"
      ]
     },
     "execution_count": 13,
     "metadata": {},
     "output_type": "execute_result"
    }
   ],
   "source": [
    "waqas.inventory"
   ]
  },
  {
   "cell_type": "code",
   "execution_count": null,
   "metadata": {
    "id": "9d439489",
    "outputId": "266552f1-802e-463d-8407-fc67119e20f7"
   },
   "outputs": [
    {
     "name": "stdout",
     "output_type": "stream",
     "text": [
      "Potato is now on a sprout!\n"
     ]
    }
   ],
   "source": [
    "waqas.tend()"
   ]
  },
  {
   "cell_type": "code",
   "execution_count": null,
   "metadata": {
    "id": "b1ae65eb",
    "outputId": "b853fb67-77b2-4b01-a24c-76b3b3b132d9"
   },
   "outputs": [
    {
     "name": "stdout",
     "output_type": "stream",
     "text": [
      "Potato is now on a mature!\n"
     ]
    }
   ],
   "source": [
    "waqas.tend()"
   ]
  },
  {
   "cell_type": "code",
   "execution_count": null,
   "metadata": {
    "id": "9e3f452c",
    "outputId": "d64273f8-11d6-44e0-947e-611f008c5572"
   },
   "outputs": [
    {
     "name": "stdout",
     "output_type": "stream",
     "text": [
      "Potato is now on a harvest_ready!\n"
     ]
    }
   ],
   "source": [
    "waqas.tend()"
   ]
  },
  {
   "cell_type": "code",
   "execution_count": null,
   "metadata": {
    "id": "e1f51a12",
    "outputId": "3394da06-fbea-4627-cf19-b6f4ad10d053"
   },
   "outputs": [
    {
     "name": "stdout",
     "output_type": "stream",
     "text": [
      "Potato is ready to be harvested\n"
     ]
    }
   ],
   "source": [
    "waqas.tend()"
   ]
  },
  {
   "cell_type": "code",
   "execution_count": null,
   "metadata": {
    "id": "45b6c730"
   },
   "outputs": [],
   "source": [
    "class Gardener:\n",
    "    \"\"\"Represent a gardner who can plant and harvest plants.\"\"\"\n",
    "\n",
    "    plant_dict = {\"tomato\":Tomato, \"potato\": Potato, \"carrot\": Carrot}\n",
    "\n",
    "    def __init__(self, name):\n",
    "        self.name = name\n",
    "        self.inventory = {} # seed name and quantity\n",
    "        self.planted_plants = []\n",
    "\n",
    "    def get_seed(self):\n",
    "        seed = random.choice(seeds)\n",
    "\n",
    "        if seed not in self.inventory:\n",
    "            self.inventory[seed] = 1\n",
    "        else:\n",
    "            self.inventory[seed] += 1\n",
    "\n",
    "        print(f\"{self.name} has found the {seed} seed!\")\n",
    "\n",
    "    def plant(self):\n",
    "        selected_plant = select_seed(self.inventory)\n",
    "\n",
    "        if selected_plant in self.inventory and self.inventory[selected_plant] > 0:\n",
    "            self.inventory[selected_plant] -= 1\n",
    "            if self.inventory[selected_plant] == 0:\n",
    "                del self.inventory[selected_plant]\n",
    "            new_plant = self.plant_dict[selected_plant]()\n",
    "\n",
    "            self.planted_plants.append(new_plant)\n",
    "            print(f\"{self.name} has planted a {selected_plant} plant!\")\n",
    "\n",
    "        else:\n",
    "            print(f\"{self.name} does not have any {selected_plant} plant!\")\n",
    "\n",
    "    def tend(self):\n",
    "        for plant in self.planted_plants:\n",
    "            if not plant.harvestable:\n",
    "                plant.grow()\n",
    "                print(f\"{plant.name} is now on a {plant.current_stage} stage!\")\n",
    "            else:\n",
    "                print(f\"{plant.name} is ready to be harvested\")\n",
    "    def harvest(self):\n",
    "        pass"
   ]
  },
  {
   "cell_type": "code",
   "execution_count": null,
   "metadata": {
    "id": "3f107476"
   },
   "outputs": [],
   "source": [
    "def select_item(items): # here items will replace with an inventory dictionary\n",
    "    if type(items) == dict:\n",
    "        item_list = list(items.keys()) # \"tomato\", \"potato\"\n",
    "    elif type(items) == list:\n",
    "        item_list = items  # Tomato(), Potato()\n",
    "\n",
    "    for i in range(len(item_list)):\n",
    "        try:\n",
    "            item_name = item_list[i].name\n",
    "        except:\n",
    "            item_name = item_list[i]\n",
    "        print(f\"{i+1}. {item_name}\")\n",
    "\n",
    "    print()\n",
    "    while True:\n",
    "        user_input = input(\"Select an item \")\n",
    "        try:\n",
    "            user_input = int(user_input)\n",
    "            if 0 <user_input <= len(item_list):\n",
    "                return item_list[user_input -1]\n",
    "            else:\n",
    "                print(\"Invalid Input\")\n",
    "        except:\n",
    "            print(\"Invalid Input\")"
   ]
  },
  {
   "cell_type": "code",
   "execution_count": null,
   "metadata": {
    "id": "89ed2f5a"
   },
   "outputs": [],
   "source": [
    "class Gardener:\n",
    "    \"\"\"Represent a gardner who can plant and harvest plants.\"\"\"\n",
    "\n",
    "    plant_dict = {\"tomato\":Tomato, \"potato\": Potato, \"carrot\": Carrot}\n",
    "\n",
    "    def __init__(self, name):\n",
    "        self.name = name\n",
    "        self.inventory = {} # seed & harvest yield\n",
    "        self.planted_plants = []\n",
    "\n",
    "    def get_seed(self):\n",
    "        seed = random.choice(seeds)\n",
    "\n",
    "        if seed not in self.inventory:\n",
    "            self.inventory[seed] = 1\n",
    "        else:\n",
    "            self.inventory[seed] += 1\n",
    "\n",
    "        print(f\"{self.name} has found the {seed} seed!\")\n",
    "\n",
    "    def plant(self):\n",
    "        selected_plant = select_item(self.inventory) # name\n",
    "\n",
    "        if selected_plant in self.inventory and self.inventory[selected_plant] > 0:\n",
    "            self.inventory[selected_plant] -= 1\n",
    "            if self.inventory[selected_plant] == 0:\n",
    "                del self.inventory[selected_plant]\n",
    "            new_plant = self.plant_dict[selected_plant]()\n",
    "\n",
    "            self.planted_plants.append(new_plant)\n",
    "            print(f\"{self.name} has planted a {selected_plant} plant!\")\n",
    "\n",
    "        else:\n",
    "            print(f\"{self.name} does not have any {selected_plant} plant!\")\n",
    "\n",
    "    def tend(self):\n",
    "        for plant in self.planted_plants:\n",
    "            if not plant.harvestable:\n",
    "                plant.grow()\n",
    "                print(f\"{plant.name} is now on a {plant.current_stage} stage!\")\n",
    "            else:\n",
    "                print(f\"{plant.name} is ready to be harvested\")\n",
    "    def harvest(self):\n",
    "        selected_plant = select_item(self.planted_plants) # instances\n",
    "        if selected_plant.harvestable == True:\n",
    "            if selected_plant.name not in self.inventory:\n",
    "                self.inventory[selected_plant.name] = selected_plant.harvest()\n",
    "            else:\n",
    "                self.inventory[selected_plant.name] += selected_plant.harvest()\n",
    "            print(f\"You have harvested {selected_plant.name}!\")\n",
    "            self.planted_plants.remove(selected_plant)\n",
    "\n",
    "        else:\n",
    "            print(f\"You can't harvest {selected_plant.name}!\")\n",
    "\n",
    "\n"
   ]
  },
  {
   "cell_type": "code",
   "execution_count": null,
   "metadata": {
    "id": "63386017"
   },
   "outputs": [],
   "source": [
    "waqas = Gardener(\"Waqas\")"
   ]
  },
  {
   "cell_type": "code",
   "execution_count": null,
   "metadata": {
    "id": "524052c9",
    "outputId": "618d1cdc-9d1c-4009-fb25-25cc3f8f5a6a"
   },
   "outputs": [
    {
     "name": "stdout",
     "output_type": "stream",
     "text": [
      "Waqas has found the tomato seed!\n"
     ]
    }
   ],
   "source": [
    "waqas.get_seed()"
   ]
  },
  {
   "cell_type": "code",
   "execution_count": null,
   "metadata": {
    "id": "d32bc1ac",
    "outputId": "2f85f55d-bc75-42e0-e9fa-f921f33ccc13"
   },
   "outputs": [
    {
     "name": "stdout",
     "output_type": "stream",
     "text": [
      "Waqas has found the potato seed!\n"
     ]
    }
   ],
   "source": [
    "waqas.get_seed()"
   ]
  },
  {
   "cell_type": "code",
   "execution_count": null,
   "metadata": {
    "id": "4fdbdeb2",
    "outputId": "c1162f6f-be74-4be9-dfd7-1092e6fee914"
   },
   "outputs": [
    {
     "data": {
      "text/plain": [
       "{'tomato': 1, 'potato': 1}"
      ]
     },
     "execution_count": 37,
     "metadata": {},
     "output_type": "execute_result"
    }
   ],
   "source": [
    "waqas.inventory"
   ]
  },
  {
   "cell_type": "code",
   "execution_count": null,
   "metadata": {
    "id": "44633042",
    "outputId": "540481dc-d0c3-436c-bf86-f9bd3fdc1ea7"
   },
   "outputs": [
    {
     "name": "stdout",
     "output_type": "stream",
     "text": [
      "1. tomato\n",
      "2. potato\n",
      "\n",
      "Select an item 1\n",
      "Waqas has planted a tomato plant!\n"
     ]
    }
   ],
   "source": [
    "waqas.plant()"
   ]
  },
  {
   "cell_type": "code",
   "execution_count": null,
   "metadata": {
    "id": "8405f2a7",
    "outputId": "8f9949aa-b950-499d-d146-e530d2797673"
   },
   "outputs": [
    {
     "name": "stdout",
     "output_type": "stream",
     "text": [
      "1. potato\n",
      "\n",
      "Select an item 1\n",
      "Waqas has planted a potato plant!\n"
     ]
    }
   ],
   "source": [
    "waqas.plant()"
   ]
  },
  {
   "cell_type": "code",
   "execution_count": null,
   "metadata": {
    "id": "3e98eaf9",
    "outputId": "c6b98a92-9f22-4565-fc77-35dfad70cf8f"
   },
   "outputs": [
    {
     "data": {
      "text/plain": [
       "{}"
      ]
     },
     "execution_count": 40,
     "metadata": {},
     "output_type": "execute_result"
    }
   ],
   "source": [
    "waqas.inventory"
   ]
  },
  {
   "cell_type": "code",
   "execution_count": null,
   "metadata": {
    "id": "66e43e88",
    "outputId": "57fcb51f-7cc9-4901-9f8b-35b2d01e704e"
   },
   "outputs": [
    {
     "name": "stdout",
     "output_type": "stream",
     "text": [
      "Tomato is now on a sprout stage!\n",
      "Potato is now on a sprout stage!\n"
     ]
    }
   ],
   "source": [
    "waqas.tend()"
   ]
  },
  {
   "cell_type": "code",
   "execution_count": null,
   "metadata": {
    "id": "ee933b8a",
    "outputId": "74c8b47a-bdf2-4283-e8ee-772fb9a3114e"
   },
   "outputs": [
    {
     "name": "stdout",
     "output_type": "stream",
     "text": [
      "Tomato is now on a mature stage!\n",
      "Potato is now on a mature stage!\n"
     ]
    }
   ],
   "source": [
    "waqas.tend()"
   ]
  },
  {
   "cell_type": "code",
   "execution_count": null,
   "metadata": {
    "id": "15860e01",
    "outputId": "a4f05ec6-d652-4beb-f3d0-9e9ade603df7"
   },
   "outputs": [
    {
     "name": "stdout",
     "output_type": "stream",
     "text": [
      "Tomato is now on a flower stage!\n",
      "Potato is now on a harvest_ready stage!\n"
     ]
    }
   ],
   "source": [
    "waqas.tend()"
   ]
  },
  {
   "cell_type": "code",
   "execution_count": null,
   "metadata": {
    "id": "d7f7d968",
    "outputId": "fc5b6cc1-be60-416f-b0df-bc76bf812113"
   },
   "outputs": [
    {
     "name": "stdout",
     "output_type": "stream",
     "text": [
      "1. Tomato\n",
      "2. Potato\n",
      "\n",
      "Select an item 1\n",
      "You can't harvest Tomato!\n"
     ]
    }
   ],
   "source": [
    "waqas.harvest()"
   ]
  },
  {
   "cell_type": "code",
   "execution_count": null,
   "metadata": {
    "id": "45eb8ff4",
    "outputId": "fe44e914-a721-4d4f-cb84-28dd6f703dfd"
   },
   "outputs": [
    {
     "name": "stdout",
     "output_type": "stream",
     "text": [
      "1. Tomato\n",
      "2. Potato\n",
      "\n",
      "Select an item 2\n",
      "You have harvested Potato!\n"
     ]
    }
   ],
   "source": [
    "waqas.harvest()"
   ]
  },
  {
   "cell_type": "code",
   "execution_count": null,
   "metadata": {
    "id": "0ccb5992",
    "outputId": "6198042e-75ab-41c2-83eb-4de3ce88ff85"
   },
   "outputs": [
    {
     "name": "stdout",
     "output_type": "stream",
     "text": [
      "Tomato is now on a fruit stage!\n",
      "Potato is already fully grown\n",
      "Potato is now on a harvest_ready stage!\n"
     ]
    }
   ],
   "source": [
    "waqas.tend()"
   ]
  },
  {
   "cell_type": "code",
   "execution_count": null,
   "metadata": {
    "id": "b8eba4d2"
   },
   "outputs": [],
   "source": [
    "valid_commands = [\"help\", \"quit\", \"seed\",\"plant\",\"tend\", \"harvest\" ]\n",
    "\n",
    "\n",
    "print(\"Welcome to the Virtual Garden!\")\n",
    "\n",
    "gardener_name = input(\"What is the gardener name! \")\n",
    "\n",
    "print(f\"Welcome {gardener}!\\nType 'help' for valid command.\")\n",
    "\n",
    "gardener = Gardener(gardener_name)\n",
    "\n",
    "while True:\n",
    "    gardener_action = input(\"What do you want to do? \")\n",
    "    gardener_action = gardener_action.lower()\n",
    "    if gardener_action in valid_commands:\n",
    "        pass\n",
    "    else:\n",
    "        print(\"Invalid Command\")\n",
    "\n"
   ]
  },
  {
   "cell_type": "code",
   "execution_count": null,
   "metadata": {
    "id": "b297b848",
    "outputId": "6c4fd5d5-0d06-4a33-b572-ffa19bc083d9"
   },
   "outputs": [
    {
     "name": "stdout",
     "output_type": "stream",
     "text": [
      "Welcome to the Virtual Garden!\n",
      "What is the gardener name! Waqas\n",
      "Welcome Waqas!\n",
      "Type 'help' for valid command.\n",
      "What do you want to do? help\n",
      "***Available Commands***\n",
      "help\n",
      "quit\n",
      "seed\n",
      "plant\n",
      "tend\n",
      "harvest\n",
      "What do you want to do? seed\n",
      "Waqas has found the tomato seed!\n",
      "What do you want to do? seed\n",
      "Waqas has found the tomato seed!\n",
      "What do you want to do? seed\n",
      "Waqas has found the potato seed!\n",
      "What do you want to do? seed\n",
      "Waqas has found the carrot seed!\n",
      "What do you want to do? plant\n",
      "1. tomato\n",
      "2. potato\n",
      "3. carrot\n",
      "\n",
      "Select an item 1\n",
      "Waqas has planted a tomato plant!\n",
      "What do you want to do? plant\n",
      "1. tomato\n",
      "2. potato\n",
      "3. carrot\n",
      "\n",
      "Select an item 1\n",
      "Waqas has planted a tomato plant!\n",
      "What do you want to do? plant\n",
      "1. potato\n",
      "2. carrot\n",
      "\n",
      "Select an item 2\n",
      "Waqas has planted a carrot plant!\n",
      "What do you want to do? tend\n",
      "Tomato is now on a sprout stage!\n",
      "Tomato is now on a sprout stage!\n",
      "Carrot is now on a sprout stage!\n",
      "What do you want to do? tend\n",
      "Tomato is now on a mature stage!\n",
      "Tomato is now on a mature stage!\n",
      "Carrot is now on a mature stage!\n",
      "What do you want to do? tend\n",
      "Tomato is now on a flower stage!\n",
      "Tomato is now on a flower stage!\n",
      "Carrot is now on a harvest_ready stage!\n",
      "What do you want to do? harvest\n",
      "1. Tomato\n",
      "2. Tomato\n",
      "3. Carrot\n",
      "\n",
      "Select an item 1\n",
      "You can't harvest Tomato!\n",
      "What do you want to do? harvest\n",
      "1. Tomato\n",
      "2. Tomato\n",
      "3. Carrot\n",
      "\n",
      "Select an item 3\n",
      "You have harvested Carrot!\n",
      "What do you want to do? harvest\n",
      "1. Tomato\n",
      "2. Tomato\n",
      "3. Carrot\n",
      "\n",
      "Select an item 3\n",
      "You can't harvest Carrot!\n",
      "What do you want to do? quit\n",
      "Thank you for your interest. Come again. Good Bye!\n"
     ]
    }
   ],
   "source": [
    "valid_commands = [\"help\", \"quit\", \"seed\",\"plant\",\"tend\", \"harvest\" ]\n",
    "\n",
    "\n",
    "print(\"Welcome to the Virtual Garden!\")\n",
    "\n",
    "gardener_name = input(\"What is the gardener name! \")\n",
    "\n",
    "print(f\"Welcome {gardener_name}!\\nType 'help' for valid command.\")\n",
    "\n",
    "gardener = Gardener(gardener_name)\n",
    "\n",
    "while True:\n",
    "    gardener_action = input(\"What do you want to do? \")\n",
    "    gardener_action = gardener_action.lower()\n",
    "    if gardener_action in valid_commands:\n",
    "        if gardener_action == \"help\":\n",
    "            print(\"***Available Commands***\")\n",
    "            for command in valid_commands:\n",
    "                print(command)\n",
    "        elif gardener_action == \"seed\":\n",
    "            gardener.get_seed()\n",
    "        elif gardener_action == \"plant\":\n",
    "            gardener.plant()\n",
    "        elif gardener_action == \"tend\":\n",
    "            gardener.tend()\n",
    "        elif gardener_action == \"harvest\":\n",
    "            gardener.harvest()\n",
    "        elif gardener_action == \"quit\":\n",
    "            print(\"Thank you for your interest. Come again. Good Bye!\")\n",
    "            break\n",
    "    else:\n",
    "        print(\"Invalid Command\")"
   ]
  },
  {
   "cell_type": "code",
   "execution_count": null,
   "metadata": {
    "id": "fadd9a3f",
    "outputId": "441bdaa3-8fb8-46a2-b121-e5a6c5fe1206"
   },
   "outputs": [
    {
     "name": "stdout",
     "output_type": "stream",
     "text": [
      "Welcome to the Virtual Garden!\n",
      "What is the gardener name! Waqas\n",
      "Welcome Waqas!\n",
      "Type 'help' for valid command.\n",
      "What do you want to do? seed\n",
      "Waqas has found the carrot seed!\n",
      "What do you want to do? seed\n",
      "Waqas has found the tomato seed!\n",
      "What do you want to do? plant\n",
      "1. carrot\n",
      "2. tomato\n",
      "\n",
      "Select an item 1\n",
      "Waqas has planted a carrot plant!\n",
      "What do you want to do? plant\n",
      "1. tomato\n",
      "\n",
      "Select an item 1\n",
      "Waqas has planted a tomato plant!\n",
      "What do you want to do? tend\n",
      "Carrot is now on a sprout stage!\n",
      "Tomato is now on a sprout stage!\n",
      "What do you want to do? tend\n",
      "Carrot is now on a mature stage!\n",
      "Tomato is now on a mature stage!\n",
      "What do you want to do? tend\n",
      "Carrot is now on a harvest_ready stage!\n",
      "Tomato is now on a flower stage!\n",
      "What do you want to do? harvest\n",
      "1. Carrot\n",
      "2. Tomato\n",
      "\n",
      "Select an item 2\n",
      "You can't harvest Tomato!\n",
      "What do you want to do? harvest\n",
      "1. Carrot\n",
      "2. Tomato\n",
      "\n",
      "Select an item 1\n",
      "You have harvested Carrot!\n",
      "What do you want to do? harvest\n",
      "1. Tomato\n",
      "\n",
      "Select an item 1\n",
      "You can't harvest Tomato!\n",
      "What do you want to do? quit\n",
      "Thank you for your interest. Come again. Good Bye!\n"
     ]
    }
   ],
   "source": [
    "valid_commands = [\"help\", \"quit\", \"seed\",\"plant\",\"tend\", \"harvest\" ]\n",
    "\n",
    "\n",
    "print(\"Welcome to the Virtual Garden!\")\n",
    "\n",
    "gardener_name = input(\"What is the gardener name! \")\n",
    "\n",
    "print(f\"Welcome {gardener_name}!\\nType 'help' for valid command.\")\n",
    "\n",
    "gardener = Gardener(gardener_name)\n",
    "\n",
    "while True:\n",
    "    gardener_action = input(\"What do you want to do? \")\n",
    "    gardener_action = gardener_action.lower()\n",
    "    if gardener_action in valid_commands:\n",
    "        if gardener_action == \"help\":\n",
    "            print(\"***Available Commands***\")\n",
    "            for command in valid_commands:\n",
    "                print(command)\n",
    "        elif gardener_action == \"seed\":\n",
    "            gardener.get_seed()\n",
    "        elif gardener_action == \"plant\":\n",
    "            gardener.plant()\n",
    "        elif gardener_action == \"tend\":\n",
    "            gardener.tend()\n",
    "        elif gardener_action == \"harvest\":\n",
    "            gardener.harvest()\n",
    "        elif gardener_action == \"quit\":\n",
    "            print(\"Thank you for your interest. Come again. Good Bye!\")\n",
    "            break\n",
    "    else:\n",
    "        print(\"Invalid Command\")"
   ]
  },
  {
   "cell_type": "code",
   "execution_count": null,
   "metadata": {
    "id": "ae5031e0"
   },
   "outputs": [],
   "source": []
  }
 ],
 "metadata": {
  "colab": {
   "provenance": [
    {
     "file_id": "1r0IfURxb4X3mxPKYkYFI_UJ7Sq_EiMvi",
     "timestamp": 1706434558186
    }
   ]
  },
  "kernelspec": {
   "display_name": "Python 3",
   "language": "python",
   "name": "python3"
  },
  "language_info": {
   "codemirror_mode": {
    "name": "ipython",
    "version": 3
   },
   "file_extension": ".py",
   "mimetype": "text/x-python",
   "name": "python",
   "nbconvert_exporter": "python",
   "pygments_lexer": "ipython3",
   "version": "3.8.5"
  }
 },
 "nbformat": 4,
 "nbformat_minor": 5
}
