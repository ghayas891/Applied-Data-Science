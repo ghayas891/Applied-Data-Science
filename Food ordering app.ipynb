{
 "cells": [
  {
   "cell_type": "code",
   "execution_count": 24,
   "metadata": {},
   "outputs": [],
   "source": [
    "restu_name = \"buddies in\"\n",
    "\n",
    "menu = {\n",
    "        \"SKU1\":{\"Name\":\"Burger\",\"Price\":5.99},\n",
    "        \"SKU2\":{\"Name\":\"Pizza\",\"Price\":8.99},\n",
    "        \"SKU3\":{\"Name\":\"Pasta\",\"Price\":7.49},\n",
    "        \"SKU4\":{\"Name\":\"Salad\",\"Price\":4.99},\n",
    "        \"SKU5\":{\"Name\":\"Steak\",\"Price\":12.99},\n",
    "        \"SKU6\":{\"Name\":\"Sushi\",\"Price\":10.49},\n",
    "        \"SKU7\":{\"Name\":\"Chicken wings\",\"Price\":6.99},\n",
    "        \"SKU8\":{\"Name\":\"Sandwich\",\"Price\":4.49},\n",
    "        \"SKU9\":{\"Name\":\"Tacos\",\"Price\":5.49},\n",
    "        \"SKU10\":{\"Name\":\"Ice Cream\",\"Price\":3.99}\n",
    "        }\n",
    "\n",
    "cart = {}\n",
    "\n",
    "action = {\"1\":\"Add item to the cart\",\n",
    "         \"2\":\"Remove item from the cart\",\n",
    "         \"3\":\"Modify item's quantity in the cart\",\n",
    "         \"4\":\"View items in the cart\",\n",
    "         \"5\":\"Checkout\",\n",
    "         \"6\":\"Exit\",}\n",
    "\n",
    "gst = 0.07"
   ]
  },
  {
   "cell_type": "code",
   "execution_count": 25,
   "metadata": {},
   "outputs": [
    {
     "name": "stdout",
     "output_type": "stream",
     "text": [
      "(1) Burger 5.99\n",
      "(2) Pizza 8.99\n",
      "(3) Pasta 7.49\n",
      "(4) Salad 4.99\n",
      "(5) Steak 12.99\n",
      "(6) Sushi 10.49\n",
      "(7) Chicken wings 6.99\n",
      "(8) Sandwich 4.49\n",
      "(9) Tacos 5.49\n",
      "(10) Ice Cream 3.99\n"
     ]
    }
   ],
   "source": [
    "for sku in menu:\n",
    "    stock = sku[3:]\n",
    "    name = menu[sku][\"Name\"]\n",
    "    price = menu[sku][\"Price\"]\n",
    "    \n",
    "    print(f\"({stock}) {name} {price}\")"
   ]
  },
  {
   "cell_type": "code",
   "execution_count": 28,
   "metadata": {},
   "outputs": [],
   "source": [
    "def display_menu():\n",
    "    \"\"\" Display manue items and their price \"\"\"\n",
    "    print(\"\\n Buddies Inn's manue \\n\")\n",
    "    for sku in menu:\n",
    "        stock = sku[3:]\n",
    "        name = menu[sku][\"Name\"]\n",
    "        price = menu[sku][\"Price\"]\n",
    "        print(f\"({stock}) {name} ${price}\")"
   ]
  },
  {
   "cell_type": "code",
   "execution_count": 29,
   "metadata": {},
   "outputs": [
    {
     "name": "stdout",
     "output_type": "stream",
     "text": [
      "\n",
      " Buddies Inn's manue \n",
      "\n",
      "(1) Burger $5.99\n",
      "(2) Pizza $8.99\n",
      "(3) Pasta $7.49\n",
      "(4) Salad $4.99\n",
      "(5) Steak $12.99\n",
      "(6) Sushi $10.49\n",
      "(7) Chicken wings $6.99\n",
      "(8) Sandwich $4.49\n",
      "(9) Tacos $5.49\n",
      "(10) Ice Cream $3.99\n"
     ]
    }
   ],
   "source": [
    "display_menu()"
   ]
  },
  {
   "cell_type": "code",
   "execution_count": 30,
   "metadata": {},
   "outputs": [],
   "source": [
    "def add_to_cart(sku, quantity = 1):\n",
    "    \"\"\"function to add items in the cart\n",
    "    Param1: sku is parameter to check the manue item\n",
    "    Param2: quantity to be orderd for manue item \n",
    "    \n",
    "    \"\"\"\n",
    "    if sku in menu:\n",
    "        if sku not in cart:\n",
    "            cart[sku] = quantity\n",
    "            print(f\"Added ({quantity}) {menu[sku]['Name']} in the cart\")\n",
    "        else:\n",
    "            cart[sku] += quantity\n",
    "            print(f\"Added {quantity} {menu[sku]['Name']} in the cart\")\n",
    "    else:\n",
    "        (\"Sorry this item is not in the manue\")\n",
    "        "
   ]
  },
  {
   "cell_type": "code",
   "execution_count": 31,
   "metadata": {},
   "outputs": [
    {
     "name": "stdout",
     "output_type": "stream",
     "text": [
      "Added (3) Ice Cream in the cart\n"
     ]
    },
    {
     "data": {
      "text/plain": [
       "{'SKU10': 3}"
      ]
     },
     "execution_count": 31,
     "metadata": {},
     "output_type": "execute_result"
    }
   ],
   "source": [
    "add_to_cart(\"SKU10\",3)\n",
    "cart"
   ]
  },
  {
   "cell_type": "code",
   "execution_count": 32,
   "metadata": {},
   "outputs": [
    {
     "data": {
      "text/plain": [
       "{'SKU10': 3}"
      ]
     },
     "execution_count": 32,
     "metadata": {},
     "output_type": "execute_result"
    }
   ],
   "source": [
    "cart"
   ]
  },
  {
   "cell_type": "code",
   "execution_count": 33,
   "metadata": {},
   "outputs": [],
   "source": [
    "def remove_item(sku):\n",
    "    if sku in cart:\n",
    "        removed = cart.pop(sku);\n",
    "        print(f\"Removed {menu[sku]['Name']} from the cart\")\n",
    "              \n",
    "    else:\n",
    "              print(f\"Sorry this item is not in the cart\")"
   ]
  },
  {
   "cell_type": "code",
   "execution_count": 34,
   "metadata": {},
   "outputs": [
    {
     "name": "stdout",
     "output_type": "stream",
     "text": [
      "Removed Ice Cream from the cart\n"
     ]
    }
   ],
   "source": [
    "remove_item(\"SKU10\")"
   ]
  },
  {
   "cell_type": "code",
   "execution_count": 35,
   "metadata": {},
   "outputs": [
    {
     "data": {
      "text/plain": [
       "{}"
      ]
     },
     "execution_count": 35,
     "metadata": {},
     "output_type": "execute_result"
    }
   ],
   "source": [
    "cart"
   ]
  },
  {
   "cell_type": "code",
   "execution_count": 36,
   "metadata": {},
   "outputs": [],
   "source": [
    "def modify_cart(sku,quantity):\n",
    "    if sku in cart:\n",
    "        if quantity > 0:\n",
    "            cart[sku] = quantity\n",
    "            print(f\"Modify {menu[sku]['Name']} to {quantity}\")\n",
    "        else:\n",
    "             remove_item(sku)\n",
    "    else:\n",
    "        print(f\"Sorry this item is not available in the cart\")"
   ]
  },
  {
   "cell_type": "code",
   "execution_count": 37,
   "metadata": {},
   "outputs": [
    {
     "name": "stdout",
     "output_type": "stream",
     "text": [
      "Sorry this item is not available in the cart\n"
     ]
    }
   ],
   "source": [
    "modify_cart(\"SKU5\",0)"
   ]
  },
  {
   "cell_type": "code",
   "execution_count": 38,
   "metadata": {},
   "outputs": [
    {
     "data": {
      "text/plain": [
       "{}"
      ]
     },
     "execution_count": 38,
     "metadata": {},
     "output_type": "execute_result"
    }
   ],
   "source": [
    "cart"
   ]
  },
  {
   "cell_type": "code",
   "execution_count": 39,
   "metadata": {},
   "outputs": [],
   "source": [
    "cart[\"SKU6\"] = 5\n",
    "cart[\"SKU9\"] = 3"
   ]
  },
  {
   "cell_type": "code",
   "execution_count": 40,
   "metadata": {},
   "outputs": [
    {
     "name": "stdout",
     "output_type": "stream",
     "text": [
      "5 Sushi = 5 X 10.49 =  56.12\n",
      "3 Tacos = 3 X 5.49 =  17.62\n"
     ]
    }
   ],
   "source": [
    "for sku in cart:\n",
    "    quantity = cart[sku]\n",
    "    price = menu[sku][\"Price\"]\n",
    "    subtotal = 0\n",
    "    subtotal += quantity*price\n",
    "    tax = subtotal*gst \n",
    "    total = subtotal+tax\n",
    "    print(f\"{quantity} {menu[sku]['Name']} = {quantity} X {price} = {total: .2f}\")\n",
    "    "
   ]
  },
  {
   "cell_type": "code",
   "execution_count": 45,
   "metadata": {},
   "outputs": [],
   "source": [
    "def view_cart():\n",
    "    \"Display the menu names, quatity and total amount\"\n",
    "\n",
    "    print(\"\\n***Your Order***\\n\")\n",
    "    subtotal = 0\n",
    "\n",
    "    for sku in cart:\n",
    "        quantity = cart[sku]\n",
    "        price = menu[sku]['Price']\n",
    "\n",
    "        subtotal+= quantity*price\n",
    "\n",
    "        print(f\"{quantity} x {menu[sku]['Name']}\")\n",
    "\n",
    "    tax = subtotal*gst\n",
    "\n",
    "    total = subtotal + tax\n",
    "    print(f\"Total: ${total: .2f}\")\n",
    "    print(\"\\n\")"
   ]
  },
  {
   "cell_type": "code",
   "execution_count": 46,
   "metadata": {},
   "outputs": [
    {
     "name": "stdout",
     "output_type": "stream",
     "text": [
      "\n",
      "***Your Order***\n",
      "\n",
      "5 x Sushi\n",
      "3 x Tacos\n",
      "Total: $ 73.74\n",
      "\n",
      "\n"
     ]
    }
   ],
   "source": [
    "view_cart()"
   ]
  },
  {
   "cell_type": "code",
   "execution_count": 47,
   "metadata": {},
   "outputs": [],
   "source": [
    "def checkout():\n",
    "    \"\"\"\n",
    "    Display the subtotal info for the user to checkout\n",
    "    \"\"\"\n",
    "    print(\"\\n***Checkout***\\n\")\n",
    "\n",
    "    view_cart()\n",
    "\n",
    "    print(\"Thank you for the order! Goodbye!\")\n",
    "    print(\"\\n\")"
   ]
  },
  {
   "cell_type": "code",
   "execution_count": 49,
   "metadata": {},
   "outputs": [
    {
     "data": {
      "text/plain": [
       "{'1': 'Add item to the cart',\n",
       " '2': 'Remove item from the cart',\n",
       " '3': \"Modify item's quantity in the cart\",\n",
       " '4': 'View items in the cart',\n",
       " '5': 'Checkout',\n",
       " '6': 'Exit'}"
      ]
     },
     "execution_count": 49,
     "metadata": {},
     "output_type": "execute_result"
    }
   ],
   "source": [
    "action"
   ]
  },
  {
   "cell_type": "code",
   "execution_count": 54,
   "metadata": {},
   "outputs": [],
   "source": [
    "def cust_actions():\n",
    "    print(\"\\n***Please Choose your option***\\n\")\n",
    "    for actions in action:\n",
    "        details = action[actions]\n",
    "        print(f\"({actions}) {details}\")"
   ]
  },
  {
   "cell_type": "code",
   "execution_count": 55,
   "metadata": {},
   "outputs": [
    {
     "name": "stdout",
     "output_type": "stream",
     "text": [
      "\n",
      "***Please Choose your option***\n",
      "\n",
      "(1) Add item to the cart\n",
      "(2) Remove item from the cart\n",
      "(3) Modify item's quantity in the cart\n",
      "(4) View items in the cart\n",
      "(5) Checkout\n",
      "(6) Exit\n"
     ]
    }
   ],
   "source": [
    "cust_actions()"
   ]
  },
  {
   "cell_type": "code",
   "execution_count": 56,
   "metadata": {},
   "outputs": [],
   "source": [
    "def get_sku_and_quantity(sku_prompt, quantity_prompt):\n",
    "    sku_num = input(sku_prompt)\n",
    "    sku = \"SKU\"+sku_num\n",
    "\n",
    "    qty = input(quantity_prompt)\n",
    "    if not qty.isdigit():\n",
    "        qty = 1\n",
    "    else:\n",
    "        qty = int(qty)\n",
    "\n",
    "    return sku, qty"
   ]
  },
  {
   "cell_type": "code",
   "execution_count": 61,
   "metadata": {},
   "outputs": [],
   "source": [
    "def order():\n",
    "    \"\"\"\n",
    "    It will take order from the customers\n",
    "    \"\"\"\n",
    "\n",
    "    print(f\"Welcome to the {restu_name}!\")\n",
    "\n",
    "    ordering = True\n",
    "\n",
    "    while ordering:\n",
    "        cust_actions()\n",
    "        response = input(\"Please enter the desired option: \")\n",
    "        if response == \"1\": # Add item to the cart\n",
    "            display_menu()\n",
    "            sku_prompt = \"Please enter the meal number from the menu item you want to order: \"\n",
    "            quantity_prompt = \"Please enter the quantity for the menu item you want to order [Defaualt 1]: \"\n",
    "            sku, quantity = get_sku_and_quantity(sku_prompt, quantity_prompt)\n",
    "            print()\n",
    "            add_to_cart(sku, quantity)\n",
    "\n",
    "        elif response == \"2\": # Remove from the cart\n",
    "            display_menu()\n",
    "            sku_prompt = \"Please enter the meal number from the menu item you want to remove: \"\n",
    "\n",
    "            sku = get_sku_and_quantity(sku_prompt)\n",
    "            print()\n",
    "            remove_from_cart(sku)\n",
    "\n",
    "        elif response == \"3\": # Modify the cart\n",
    "            display_menu()\n",
    "            sku_prompt = \"Please enter the meal number from the menu item you want to modify: \"\n",
    "            quantity_prompt = \"Please enter the quantity for the menu item you want to order [Defaualt 1]: \"\n",
    "            sku, quantity = get_sku_and_quantity(sku_prompt, quantity_prompt)\n",
    "            print()\n",
    "            modify_cart(sku, quantity)\n",
    "\n",
    "        elif response == \"4\": # View cart\n",
    "            view_cart()\n",
    "\n",
    "        elif response == \"5\": # Checkout\n",
    "            checkout()\n",
    "            ordering = False # breaking while loop\n",
    "\n",
    "        elif response == \"6\": # Exit\n",
    "            print(\"Thanks for coming!\")\n",
    "            ordering = False # breaking while loop\n",
    "        else:\n",
    "            print(\"Sorry you have entered the invalid option. Please try again!\")"
   ]
  },
  {
   "cell_type": "code",
   "execution_count": null,
   "metadata": {},
   "outputs": [
    {
     "name": "stdout",
     "output_type": "stream",
     "text": [
      "Welcome to the buddies in!\n",
      "\n",
      "***Please Choose your option***\n",
      "\n",
      "(1) Add item to the cart\n",
      "(2) Remove item from the cart\n",
      "(3) Modify item's quantity in the cart\n",
      "(4) View items in the cart\n",
      "(5) Checkout\n",
      "(6) Exit\n",
      "Please enter the desired option: 1\n",
      "\n",
      " Buddies Inn's manue \n",
      "\n",
      "(1) Burger $5.99\n",
      "(2) Pizza $8.99\n",
      "(3) Pasta $7.49\n",
      "(4) Salad $4.99\n",
      "(5) Steak $12.99\n",
      "(6) Sushi $10.49\n",
      "(7) Chicken wings $6.99\n",
      "(8) Sandwich $4.49\n",
      "(9) Tacos $5.49\n",
      "(10) Ice Cream $3.99\n",
      "Please enter the meal number from the menu item you want to order: 2\n",
      "Please enter the quantity for the menu item you want to order [Defaualt 1]: 2\n",
      "\n",
      "Added (2) Pizza in the cart\n",
      "\n",
      "***Please Choose your option***\n",
      "\n",
      "(1) Add item to the cart\n",
      "(2) Remove item from the cart\n",
      "(3) Modify item's quantity in the cart\n",
      "(4) View items in the cart\n",
      "(5) Checkout\n",
      "(6) Exit\n",
      "Please enter the desired option: 1\n",
      "\n",
      " Buddies Inn's manue \n",
      "\n",
      "(1) Burger $5.99\n",
      "(2) Pizza $8.99\n",
      "(3) Pasta $7.49\n",
      "(4) Salad $4.99\n",
      "(5) Steak $12.99\n",
      "(6) Sushi $10.49\n",
      "(7) Chicken wings $6.99\n",
      "(8) Sandwich $4.49\n",
      "(9) Tacos $5.49\n",
      "(10) Ice Cream $3.99\n",
      "Please enter the meal number from the menu item you want to order: 6\n",
      "Please enter the quantity for the menu item you want to order [Defaualt 1]: 3\n",
      "\n",
      "Added 3 Sushi in the cart\n",
      "\n",
      "***Please Choose your option***\n",
      "\n",
      "(1) Add item to the cart\n",
      "(2) Remove item from the cart\n",
      "(3) Modify item's quantity in the cart\n",
      "(4) View items in the cart\n",
      "(5) Checkout\n",
      "(6) Exit\n"
     ]
    }
   ],
   "source": [
    "order()"
   ]
  },
  {
   "cell_type": "code",
   "execution_count": null,
   "metadata": {},
   "outputs": [],
   "source": []
  }
 ],
 "metadata": {
  "kernelspec": {
   "display_name": "Python 3",
   "language": "python",
   "name": "python3"
  },
  "language_info": {
   "codemirror_mode": {
    "name": "ipython",
    "version": 3
   },
   "file_extension": ".py",
   "mimetype": "text/x-python",
   "name": "python",
   "nbconvert_exporter": "python",
   "pygments_lexer": "ipython3",
   "version": "3.8.5"
  }
 },
 "nbformat": 4,
 "nbformat_minor": 4
}
