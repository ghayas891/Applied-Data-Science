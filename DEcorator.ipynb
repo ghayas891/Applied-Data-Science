{
 "cells": [
  {
   "cell_type": "markdown",
   "metadata": {},
   "source": [
    "# Decorators"
   ]
  },
  {
   "cell_type": "markdown",
   "metadata": {},
   "source": [
    "1. Function as objects\n",
    "2. Function as arguments\n",
    "3. Function as inner or nested functions "
   ]
  },
  {
   "cell_type": "code",
   "execution_count": 1,
   "metadata": {},
   "outputs": [],
   "source": [
    "def adjust_lighting():\n",
    "    print(\"aAdjusting lighting\")"
   ]
  },
  {
   "cell_type": "code",
   "execution_count": 2,
   "metadata": {},
   "outputs": [
    {
     "name": "stdout",
     "output_type": "stream",
     "text": [
      "aAdjusting lighting\n"
     ]
    }
   ],
   "source": [
    "adjust_lighting()"
   ]
  },
  {
   "cell_type": "code",
   "execution_count": 3,
   "metadata": {},
   "outputs": [],
   "source": [
    "adl = adjust_lighting #Function as an object"
   ]
  },
  {
   "cell_type": "code",
   "execution_count": 4,
   "metadata": {},
   "outputs": [
    {
     "name": "stdout",
     "output_type": "stream",
     "text": [
      "aAdjusting lighting\n"
     ]
    }
   ],
   "source": [
    "adl()"
   ]
  },
  {
   "cell_type": "code",
   "execution_count": 5,
   "metadata": {},
   "outputs": [],
   "source": [
    "def log_execution(original_function):\n",
    "    print(\"I am calling a function\")\n",
    "    original_function()\n",
    "    print(\"Function has been called\")"
   ]
  },
  {
   "cell_type": "code",
   "execution_count": 6,
   "metadata": {},
   "outputs": [
    {
     "name": "stdout",
     "output_type": "stream",
     "text": [
      "I am calling a function\n",
      "aAdjusting lighting\n",
      "Function has been called\n"
     ]
    }
   ],
   "source": [
    "log_execution(adjust_lighting) #Function as arguments concept"
   ]
  },
  {
   "cell_type": "code",
   "execution_count": 7,
   "metadata": {},
   "outputs": [],
   "source": [
    "def log_execution():\n",
    "    def wrapper():\n",
    "        return \"Some value\"\n",
    "    return wrapper "
   ]
  },
  {
   "cell_type": "code",
   "execution_count": 8,
   "metadata": {},
   "outputs": [
    {
     "data": {
      "text/plain": [
       "<function __main__.log_execution.<locals>.wrapper()>"
      ]
     },
     "execution_count": 8,
     "metadata": {},
     "output_type": "execute_result"
    }
   ],
   "source": [
    "func_call = log_execution()\n",
    "func_call"
   ]
  },
  {
   "cell_type": "code",
   "execution_count": 9,
   "metadata": {},
   "outputs": [
    {
     "data": {
      "text/plain": [
       "'Some value'"
      ]
     },
     "execution_count": 9,
     "metadata": {},
     "output_type": "execute_result"
    }
   ],
   "source": [
    "func_call()"
   ]
  },
  {
   "cell_type": "code",
   "execution_count": 10,
   "metadata": {},
   "outputs": [],
   "source": [
    "def log_execution():\n",
    "    def wrapper():\n",
    "        return \"Some value\"\n",
    "    return wrapper()"
   ]
  },
  {
   "cell_type": "code",
   "execution_count": 11,
   "metadata": {},
   "outputs": [],
   "source": [
    "func_call = log_execution()"
   ]
  },
  {
   "cell_type": "code",
   "execution_count": 12,
   "metadata": {},
   "outputs": [
    {
     "data": {
      "text/plain": [
       "'Some value'"
      ]
     },
     "execution_count": 12,
     "metadata": {},
     "output_type": "execute_result"
    }
   ],
   "source": [
    "func_call"
   ]
  },
  {
   "cell_type": "code",
   "execution_count": 13,
   "metadata": {},
   "outputs": [],
   "source": [
    "def adjust_lighting():\n",
    "    print(\"aAdjusting lighting\")\n",
    "    \n",
    "def log_execution(original_function):\n",
    "    def wrapper():\n",
    "        print(\"Executing smart home system ...\")\n",
    "        original_function()\n",
    "        print(\"Smarthome system has been executing  \")\n",
    "        \n",
    "    return wrapper"
   ]
  },
  {
   "cell_type": "code",
   "execution_count": 14,
   "metadata": {},
   "outputs": [],
   "source": [
    "decorated_adjust_lighting = log_execution(adjust_lighting)"
   ]
  },
  {
   "cell_type": "code",
   "execution_count": 15,
   "metadata": {},
   "outputs": [
    {
     "name": "stdout",
     "output_type": "stream",
     "text": [
      "Executing smart home system ...\n",
      "aAdjusting lighting\n",
      "Smarthome system has been executing  \n"
     ]
    }
   ],
   "source": [
    "decorated_adjust_lighting()"
   ]
  },
  {
   "cell_type": "code",
   "execution_count": 16,
   "metadata": {},
   "outputs": [],
   "source": [
    "#Concept of syntatic suga in decorator"
   ]
  },
  {
   "cell_type": "code",
   "execution_count": 17,
   "metadata": {},
   "outputs": [],
   "source": [
    "def adjust_lighting():\n",
    "    print(\"aAdjusting lighting\")\n",
    "    \n",
    "def log_execution(original_function):\n",
    "    def wrapper():\n",
    "        print(\"Executing smart home system ...\")\n",
    "        original_function()\n",
    "        print(\"Smarthome system has been executing  \")\n",
    "        \n",
    "    return wrapper"
   ]
  },
  {
   "cell_type": "code",
   "execution_count": 18,
   "metadata": {},
   "outputs": [],
   "source": [
    "@log_execution\n",
    "def adjust_lighting():\n",
    "    print(\"aAdjusting lighting\")"
   ]
  },
  {
   "cell_type": "code",
   "execution_count": 20,
   "metadata": {},
   "outputs": [
    {
     "name": "stdout",
     "output_type": "stream",
     "text": [
      "Executing smart home system ...\n",
      "aAdjusting lighting\n",
      "Smarthome system has been executing  \n"
     ]
    }
   ],
   "source": [
    "adjust_lighting()"
   ]
  },
  {
   "cell_type": "code",
   "execution_count": 20,
   "metadata": {},
   "outputs": [
    {
     "name": "stdout",
     "output_type": "stream",
     "text": [
      "aAdjusting lighting 80\n"
     ]
    }
   ],
   "source": [
    "def adjust_lighting(brightness):\n",
    "    print(f\"aAdjusting lighting {brightness}\")\n",
    "    \n",
    "    \n",
    "adjust_lighting(80)"
   ]
  },
  {
   "cell_type": "code",
   "execution_count": 21,
   "metadata": {},
   "outputs": [
    {
     "ename": "TypeError",
     "evalue": "wrapper() takes 0 positional arguments but 1 was given",
     "output_type": "error",
     "traceback": [
      "\u001b[1;31m---------------------------------------------------------------------------\u001b[0m",
      "\u001b[1;31mTypeError\u001b[0m                                 Traceback (most recent call last)",
      "\u001b[1;32m<ipython-input-21-d964068c9075>\u001b[0m in \u001b[0;36m<module>\u001b[1;34m\u001b[0m\n\u001b[0;32m     12\u001b[0m \u001b[1;33m\u001b[0m\u001b[0m\n\u001b[0;32m     13\u001b[0m \u001b[1;33m\u001b[0m\u001b[0m\n\u001b[1;32m---> 14\u001b[1;33m \u001b[0madjust_lighting\u001b[0m\u001b[1;33m(\u001b[0m\u001b[1;36m80\u001b[0m\u001b[1;33m)\u001b[0m\u001b[1;33m\u001b[0m\u001b[1;33m\u001b[0m\u001b[0m\n\u001b[0m",
      "\u001b[1;31mTypeError\u001b[0m: wrapper() takes 0 positional arguments but 1 was given"
     ]
    }
   ],
   "source": [
    "    \n",
    "def log_execution(original_function):\n",
    "    def wrapper():\n",
    "        print(\"Executing smart home system ...\")\n",
    "        original_function()\n",
    "        print(\"Smarthome system has been executing  \")\n",
    "        \n",
    "    return wrapper\n",
    "\n",
    "@log_execution\n",
    "def adjust_lighting(brightness):\n",
    "    print(f\"aAdjusting lighting {brightness}\")\n",
    "    \n",
    "    \n",
    "adjust_lighting(80)"
   ]
  },
  {
   "cell_type": "code",
   "execution_count": 22,
   "metadata": {},
   "outputs": [
    {
     "name": "stdout",
     "output_type": "stream",
     "text": [
      "Executing smart home system ...\n",
      "aAdjusting lighting 80\n",
      "Smarthome system has been executing  \n"
     ]
    }
   ],
   "source": [
    "    \n",
    "def log_execution(original_function):\n",
    "    def wrapper(arg):\n",
    "        print(\"Executing smart home system ...\")\n",
    "        original_function(arg)\n",
    "        print(\"Smarthome system has been executing  \")\n",
    "        \n",
    "    return wrapper\n",
    "\n",
    "@log_execution\n",
    "def adjust_lighting(brightness):\n",
    "    print(f\"aAdjusting lighting {brightness}\")\n",
    "    \n",
    "    \n",
    "adjust_lighting(80)"
   ]
  },
  {
   "cell_type": "code",
   "execution_count": 24,
   "metadata": {},
   "outputs": [
    {
     "ename": "TypeError",
     "evalue": "wrapper() takes 1 positional argument but 2 were given",
     "output_type": "error",
     "traceback": [
      "\u001b[1;31m---------------------------------------------------------------------------\u001b[0m",
      "\u001b[1;31mTypeError\u001b[0m                                 Traceback (most recent call last)",
      "\u001b[1;32m<ipython-input-24-50c67df99f7f>\u001b[0m in \u001b[0;36m<module>\u001b[1;34m\u001b[0m\n\u001b[0;32m     12\u001b[0m \u001b[1;33m\u001b[0m\u001b[0m\n\u001b[0;32m     13\u001b[0m \u001b[1;33m\u001b[0m\u001b[0m\n\u001b[1;32m---> 14\u001b[1;33m \u001b[0madjust_lighting\u001b[0m\u001b[1;33m(\u001b[0m\u001b[1;36m80\u001b[0m\u001b[1;33m,\u001b[0m\u001b[1;36m92\u001b[0m\u001b[1;33m)\u001b[0m\u001b[1;33m\u001b[0m\u001b[1;33m\u001b[0m\u001b[0m\n\u001b[0m",
      "\u001b[1;31mTypeError\u001b[0m: wrapper() takes 1 positional argument but 2 were given"
     ]
    }
   ],
   "source": [
    "    \n",
    "def log_execution(original_function):\n",
    "    def wrapper(arg):\n",
    "        print(\"Executing smart home system ...\")\n",
    "        original_function(arg)\n",
    "        print(\"Smarthome system has been executing  \")\n",
    "        \n",
    "    return wrapper\n",
    "\n",
    "@log_execution\n",
    "def adjust_lighting(brightness ,intensity):\n",
    "    print(f\"aAdjusting lighting {brightness}% to make it's intensity {intensity}\")\n",
    "    \n",
    "    \n",
    "adjust_lighting(80,92)"
   ]
  },
  {
   "cell_type": "code",
   "execution_count": 25,
   "metadata": {},
   "outputs": [
    {
     "name": "stdout",
     "output_type": "stream",
     "text": [
      "Executing smart home system ...\n",
      "aAdjusting lighting 80% to make it's intensity 92\n",
      "Smarthome system has been executing  \n"
     ]
    }
   ],
   "source": [
    "    \n",
    "def log_execution(original_function):\n",
    "    def wrapper(*args):\n",
    "        print(\"Executing smart home system ...\")\n",
    "        original_function(*args)\n",
    "        print(\"Smarthome system has been executing  \")\n",
    "        \n",
    "    return wrapper\n",
    "\n",
    "@log_execution\n",
    "def adjust_lighting(brightness ,intensity):\n",
    "    print(f\"aAdjusting lighting {brightness}% to make it's intensity {intensity}\")\n",
    "    \n",
    "    \n",
    "adjust_lighting(80,92) # positional arguments"
   ]
  },
  {
   "cell_type": "code",
   "execution_count": 27,
   "metadata": {},
   "outputs": [
    {
     "name": "stdout",
     "output_type": "stream",
     "text": [
      "Executing smart home system ...\n",
      "aAdjusting lighting 80% to make it's intensity 92\n",
      "Smarthome system has been executing  \n"
     ]
    }
   ],
   "source": [
    "    \n",
    "def log_execution(original_function):\n",
    "    def wrapper(*args, **kwargs):\n",
    "        print(\"Executing smart home system ...\")\n",
    "        original_function(*args,**kwargs)\n",
    "        print(\"Smarthome system has been executing  \")\n",
    "        \n",
    "    return wrapper\n",
    "\n",
    "@log_execution\n",
    "def adjust_lighting(brightness ,intensity):\n",
    "    print(f\"aAdjusting lighting {brightness}% to make it's intensity {intensity}\")\n",
    "    \n",
    "    \n",
    "adjust_lighting(brightness = 80, intensity = 92)"
   ]
  },
  {
   "cell_type": "code",
   "execution_count": 28,
   "metadata": {},
   "outputs": [
    {
     "ename": "NameError",
     "evalue": "name 'log_custome' is not defined",
     "output_type": "error",
     "traceback": [
      "\u001b[1;31m---------------------------------------------------------------------------\u001b[0m",
      "\u001b[1;31mNameError\u001b[0m                                 Traceback (most recent call last)",
      "\u001b[1;32m<ipython-input-28-1bd4cbd0e1aa>\u001b[0m in \u001b[0;36m<module>\u001b[1;34m\u001b[0m\n\u001b[0;32m      9\u001b[0m        \u001b[1;32mreturn\u001b[0m \u001b[0mlog_execution\u001b[0m\u001b[1;33m\u001b[0m\u001b[1;33m\u001b[0m\u001b[0m\n\u001b[0;32m     10\u001b[0m \u001b[1;33m\u001b[0m\u001b[0m\n\u001b[1;32m---> 11\u001b[1;33m \u001b[1;33m@\u001b[0m\u001b[0mlog_custome\u001b[0m\u001b[1;33m(\u001b[0m\u001b[1;34m\"initiating smart home system ... \"\u001b[0m\u001b[1;33m)\u001b[0m\u001b[1;33m\u001b[0m\u001b[1;33m\u001b[0m\u001b[0m\n\u001b[0m\u001b[0;32m     12\u001b[0m \u001b[1;32mdef\u001b[0m \u001b[0madjust_lighting\u001b[0m\u001b[1;33m(\u001b[0m\u001b[0mbrightness\u001b[0m \u001b[1;33m,\u001b[0m\u001b[0mintensity\u001b[0m\u001b[1;33m)\u001b[0m\u001b[1;33m:\u001b[0m\u001b[1;33m\u001b[0m\u001b[1;33m\u001b[0m\u001b[0m\n\u001b[0;32m     13\u001b[0m    \u001b[0mprint\u001b[0m\u001b[1;33m(\u001b[0m\u001b[1;34mf\"aAdjusting lighting {brightness}% to make it's intensity {intensity}\"\u001b[0m\u001b[1;33m)\u001b[0m\u001b[1;33m\u001b[0m\u001b[1;33m\u001b[0m\u001b[0m\n",
      "\u001b[1;31mNameError\u001b[0m: name 'log_custome' is not defined"
     ]
    }
   ],
   "source": [
    " def log_cusome(message):   \n",
    "    def log_execution(original_function):\n",
    "        def wrapper(*args, **kwargs):\n",
    "            #print(\"Executing smart home system ...\")\n",
    "            original_function(*args,**kwargs)\n",
    "            print(\"Smarthome system has been executing  \")\n",
    "        \n",
    "        return wrapper\n",
    "        return log_execution\n",
    "\n",
    "@log_custome(\"initiating smart home system ... \")\n",
    "def adjust_lighting(brightness ,intensity):\n",
    "    print(f\"aAdjusting lighting {brightness}% to make it's intensity {intensity}\")\n",
    "    \n",
    "    \n",
    "adjust_lighting(brightness = 80, intensity = 92)"
   ]
  },
  {
   "cell_type": "code",
   "execution_count": 31,
   "metadata": {},
   "outputs": [
    {
     "name": "stdout",
     "output_type": "stream",
     "text": [
      "initiating smart home system ... \n",
      "aAdjusting lighting 80% to make it's intensity 92\n",
      "Smarthome system has been executing  \n"
     ]
    }
   ],
   "source": [
    " def log_custome(message):   \n",
    "    def log_execution(original_function):\n",
    "        def wrapper(*args, **kwargs):\n",
    "            print(message) #print(\"Executing smart home system ...\")\n",
    "            original_function(*args,**kwargs)\n",
    "            print(\"Smarthome system has been executing  \")\n",
    "        \n",
    "        return wrapper\n",
    "    return log_execution\n",
    "\n",
    "@log_custome(\"initiating smart home system ... \")\n",
    "def adjust_lighting(brightness ,intensity):\n",
    "    print(f\"aAdjusting lighting {brightness}% to make it's intensity {intensity}\")\n",
    "    \n",
    "    \n",
    "adjust_lighting(brightness = 80, intensity = 92)"
   ]
  },
  {
   "cell_type": "markdown",
   "metadata": {},
   "source": [
    "# Decorator chaining"
   ]
  },
  {
   "cell_type": "code",
   "execution_count": 32,
   "metadata": {},
   "outputs": [
    {
     "name": "stdout",
     "output_type": "stream",
     "text": [
      "initiating smart home system ... \n",
      "aAdjusting lighting 80% to make it's intensity 92\n",
      "Smarthome system has been executing  \n"
     ]
    }
   ],
   "source": [
    " def log_custome(message):   \n",
    "    def log_execution(original_function):\n",
    "        def wrapper(*args, **kwargs):\n",
    "            print(message) #print(\"Executing smart home system ...\")\n",
    "            original_function(*args,**kwargs)\n",
    "            print(\"Smarthome system has been executing  \")\n",
    "        \n",
    "        return wrapper\n",
    "    return log_execution\n",
    "\n",
    "@log_custome(\"initiating smart home system ... \")\n",
    "def adjust_lighting(brightness ,intensity):\n",
    "    print(f\"aAdjusting lighting {brightness}% to make it's intensity {intensity}\")\n",
    "    \n",
    "    \n",
    "adjust_lighting(brightness = 80, intensity = 92)"
   ]
  },
  {
   "cell_type": "code",
   "execution_count": 33,
   "metadata": {},
   "outputs": [],
   "source": [
    "import datetime as dt"
   ]
  },
  {
   "cell_type": "code",
   "execution_count": 36,
   "metadata": {},
   "outputs": [
    {
     "data": {
      "text/plain": [
       "datetime.datetime(2023, 12, 16, 0, 45, 23, 52613)"
      ]
     },
     "execution_count": 36,
     "metadata": {},
     "output_type": "execute_result"
    }
   ],
   "source": [
    "dt.datetime.now()"
   ]
  },
  {
   "cell_type": "code",
   "execution_count": 39,
   "metadata": {},
   "outputs": [
    {
     "name": "stdout",
     "output_type": "stream",
     "text": [
      "2023-12-16 00:52:19.333731\n",
      "initiating smart home system ... \n",
      "aAdjusting lighting 80% to make it's intensity 92\n",
      "Smarthome system has been executing  \n"
     ]
    }
   ],
   "source": [
    "def timestamp(original_function):\n",
    "    def wrapper(*args, **kwargs):\n",
    "        print(dt.datetime.now())\n",
    "        original_function(*args, **kwargs)\n",
    "        \n",
    "    return wrapper\n",
    "\n",
    "def log_custome(message):   \n",
    "    def log_execution(original_function):\n",
    "        def wrapper(*args, **kwargs):\n",
    "            print(message) #print(\"Executing smart home system ...\")\n",
    "            original_function(*args,**kwargs)\n",
    "            print(\"Smarthome system has been executing  \")\n",
    "        \n",
    "        return wrapper\n",
    "    return log_execution\n",
    "@timestamp\n",
    "@log_custome(\"initiating smart home system ... \")\n",
    "def adjust_lighting(brightness ,intensity):\n",
    "    print(f\"aAdjusting lighting {brightness}% to make it's intensity {intensity}\")\n",
    "    \n",
    "    \n",
    "adjust_lighting(brightness = 80, intensity = 92)"
   ]
  },
  {
   "cell_type": "code",
   "execution_count": 40,
   "metadata": {},
   "outputs": [
    {
     "name": "stdout",
     "output_type": "stream",
     "text": [
      "initiating smart home system ... \n",
      "2023-12-16 00:52:55.537477\n",
      "aAdjusting lighting 80% to make it's intensity 92\n",
      "Smarthome system has been executing  \n"
     ]
    }
   ],
   "source": [
    "\n",
    "@log_custome(\"initiating smart home system ... \")\n",
    "@timestamp\n",
    "def adjust_lighting(brightness ,intensity):\n",
    "    print(f\"aAdjusting lighting {brightness}% to make it's intensity {intensity}\")\n",
    "    \n",
    "    \n",
    "adjust_lighting(brightness = 80, intensity = 92)"
   ]
  },
  {
   "cell_type": "code",
   "execution_count": 42,
   "metadata": {},
   "outputs": [
    {
     "name": "stdout",
     "output_type": "stream",
     "text": [
      "None\n"
     ]
    }
   ],
   "source": [
    "print(adjust_lighting.__doc__)"
   ]
  },
  {
   "cell_type": "code",
   "execution_count": 45,
   "metadata": {},
   "outputs": [
    {
     "name": "stdout",
     "output_type": "stream",
     "text": [
      "2023-12-16 00:59:59.573426\n",
      "initiating smart home system ... \n",
      "aAdjusting lighting 80% to make it's intensity 92\n",
      "Smarthome system has been executing  \n",
      "\n",
      "None\n",
      "\n",
      "wrapper\n"
     ]
    }
   ],
   "source": [
    "def timestamp(original_function):\n",
    "    def wrapper(*args, **kwargs):\n",
    "        print(dt.datetime.now())\n",
    "        original_function(*args, **kwargs)\n",
    "        \n",
    "    return wrapper\n",
    "\n",
    "def log_custome(message):   \n",
    "    def log_execution(original_function):\n",
    "        def wrapper(*args, **kwargs):\n",
    "            print(message) #print(\"Executing smart home system ...\")\n",
    "            original_function(*args,**kwargs)\n",
    "            print(\"Smarthome system has been executing  \")\n",
    "        \n",
    "        return wrapper\n",
    "    return log_execution\n",
    "@timestamp\n",
    "@log_custome(\"initiating smart home system ... \")\n",
    "def adjust_lighting(brightness ,intensity):\n",
    "    \"\"\" function to adjusting lighting\"\"\"\n",
    "    print(f\"aAdjusting lighting {brightness}% to make it's intensity {intensity}\")\n",
    "    \n",
    "    \n",
    "adjust_lighting(brightness = 80, intensity = 92)\n",
    "print()\n",
    "print(adjust_lighting.__doc__)\n",
    "print()\n",
    "print(adjust_lighting.__name__)"
   ]
  },
  {
   "cell_type": "code",
   "execution_count": 51,
   "metadata": {},
   "outputs": [],
   "source": [
    "from functools import wraps"
   ]
  },
  {
   "cell_type": "code",
   "execution_count": 54,
   "metadata": {},
   "outputs": [
    {
     "name": "stdout",
     "output_type": "stream",
     "text": [
      "2023-12-16 01:07:08.079412\n",
      "initiating smart home system ... \n",
      "aAdjusting lighting 80% to make it's intensity 92\n",
      "Smarthome system has been executing  \n",
      "\n",
      "informing about adjusting light\n",
      "\n",
      "adjust_lighting\n"
     ]
    }
   ],
   "source": [
    "\n",
    "def timestamp(original_function):\n",
    "    @wraps(original_function)\n",
    "    def wrapper(*args, **kwargs):\n",
    "        print(dt.datetime.now())\n",
    "        original_function(*args, **kwargs)\n",
    "        \n",
    "    return wrapper\n",
    "\n",
    "def log_custome(message):   \n",
    "    def log_execution(original_function):\n",
    "        @wraps(original_function)\n",
    "        def wrapper(*args, **kwargs):\n",
    "            print(message) #print(\"Executing smart home system ...\")\n",
    "            original_function(*args,**kwargs)\n",
    "            print(\"Smarthome system has been executing  \")\n",
    "        \n",
    "        return wrapper\n",
    "    return log_execution\n",
    "@timestamp\n",
    "@log_custome(\"initiating smart home system ... \")\n",
    "def adjust_lighting(brightness ,intensity):\n",
    "    \"\"\"informing about adjusting light\"\"\"\n",
    "    print(f\"aAdjusting lighting {brightness}% to make it's intensity {intensity}\")\n",
    "    \n",
    "    \n",
    "adjust_lighting(brightness = 80, intensity = 92)\n",
    "print()\n",
    "print(adjust_lighting.__doc__)\n",
    "print()\n",
    "print(adjust_lighting.__name__)"
   ]
  },
  {
   "cell_type": "code",
   "execution_count": null,
   "metadata": {},
   "outputs": [],
   "source": []
  }
 ],
 "metadata": {
  "kernelspec": {
   "display_name": "Python 3",
   "language": "python",
   "name": "python3"
  },
  "language_info": {
   "codemirror_mode": {
    "name": "ipython",
    "version": 3
   },
   "file_extension": ".py",
   "mimetype": "text/x-python",
   "name": "python",
   "nbconvert_exporter": "python",
   "pygments_lexer": "ipython3",
   "version": "3.8.5"
  }
 },
 "nbformat": 4,
 "nbformat_minor": 4
}
