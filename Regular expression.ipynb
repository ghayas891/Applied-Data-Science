{
 "cells": [
  {
   "cell_type": "markdown",
   "metadata": {},
   "source": [
    "# Regular Expression (Regex-- REG-EX) for NLp & AI "
   ]
  },
  {
   "cell_type": "code",
   "execution_count": 1,
   "metadata": {},
   "outputs": [],
   "source": [
    "import re"
   ]
  },
  {
   "cell_type": "code",
   "execution_count": 2,
   "metadata": {},
   "outputs": [
    {
     "data": {
      "text/plain": [
       "<re.Match object; span=(1, 4), match='and'>"
      ]
     },
     "execution_count": 2,
     "metadata": {},
     "output_type": "execute_result"
    }
   ],
   "source": [
    "re.search(\"and\",\"hand\")"
   ]
  },
  {
   "cell_type": "code",
   "execution_count": 3,
   "metadata": {},
   "outputs": [],
   "source": [
    "pattren = \"and\"\n",
    "string = \"hand\""
   ]
  },
  {
   "cell_type": "code",
   "execution_count": 4,
   "metadata": {},
   "outputs": [
    {
     "data": {
      "text/plain": [
       "<re.Match object; span=(1, 4), match='and'>"
      ]
     },
     "execution_count": 4,
     "metadata": {},
     "output_type": "execute_result"
    }
   ],
   "source": [
    "re.search(pattren,string)"
   ]
  },
  {
   "cell_type": "code",
   "execution_count": 7,
   "metadata": {},
   "outputs": [
    {
     "name": "stdout",
     "output_type": "stream",
     "text": [
      "None\n"
     ]
    }
   ],
   "source": [
    "print(re.search(pattren, \"ahnd\"))"
   ]
  },
  {
   "cell_type": "code",
   "execution_count": 8,
   "metadata": {},
   "outputs": [
    {
     "name": "stdout",
     "output_type": "stream",
     "text": [
      "yes it is match\n"
     ]
    }
   ],
   "source": [
    "if re.search(pattren,string):\n",
    "    print(\"yes it is match\")\n",
    "else:\n",
    "    print(\"sorry not match\")"
   ]
  },
  {
   "cell_type": "code",
   "execution_count": 9,
   "metadata": {},
   "outputs": [
    {
     "name": "stdout",
     "output_type": "stream",
     "text": [
      "sorry not match\n"
     ]
    }
   ],
   "source": [
    "if re.search(pattren,\"ahnd\"):\n",
    "    print(\"yes it is match\")\n",
    "else:\n",
    "    print(\"sorry not match\")"
   ]
  },
  {
   "cell_type": "code",
   "execution_count": 14,
   "metadata": {},
   "outputs": [],
   "source": [
    "l = [\"My favorit color is Blue\",\n",
    "     \"His favorite color is red\",\n",
    "     \"Saad's favorite color is red and blue\"]\n"
   ]
  },
  {
   "cell_type": "code",
   "execution_count": 15,
   "metadata": {},
   "outputs": [
    {
     "name": "stdout",
     "output_type": "stream",
     "text": [
      "Match\n",
      "NO match\n",
      "NO match\n"
     ]
    }
   ],
   "source": [
    "pattern = \"Blue\"\n",
    "\n",
    "for i in l:\n",
    "    if re.search(pattern, i):\n",
    "        print(\"Match\")\n",
    "    else:\n",
    "        print(\"NO match\")"
   ]
  },
  {
   "cell_type": "markdown",
   "metadata": {},
   "source": [
    "# set []"
   ]
  },
  {
   "cell_type": "code",
   "execution_count": 16,
   "metadata": {},
   "outputs": [],
   "source": [
    "# cry try"
   ]
  },
  {
   "cell_type": "code",
   "execution_count": 17,
   "metadata": {},
   "outputs": [
    {
     "name": "stdout",
     "output_type": "stream",
     "text": [
      "Ghaya\n",
      "s\n"
     ]
    }
   ],
   "source": [
    "print(\"Ghaya\\ns\")"
   ]
  },
  {
   "cell_type": "code",
   "execution_count": 18,
   "metadata": {},
   "outputs": [
    {
     "name": "stdout",
     "output_type": "stream",
     "text": [
      "Ghaya\\ns\n"
     ]
    }
   ],
   "source": [
    "print(r\"Ghaya\\ns\")"
   ]
  },
  {
   "cell_type": "code",
   "execution_count": 19,
   "metadata": {},
   "outputs": [],
   "source": [
    "pattern = r\"[ct]ry\""
   ]
  },
  {
   "cell_type": "code",
   "execution_count": 21,
   "metadata": {},
   "outputs": [
    {
     "name": "stdout",
     "output_type": "stream",
     "text": [
      "Match\n",
      "NO match\n",
      "Match\n"
     ]
    }
   ],
   "source": [
    "l = [\"My favorit color is Blue\",\n",
    "     \"His favorite color is red\",\n",
    "     \"Saad's favorite color is red and blue\"]\n",
    "\n",
    "pattern = r\"[bB]lue\"\n",
    "\n",
    "for i in l:\n",
    "    if re.search(pattern, i):\n",
    "        print(\"Match\")\n",
    "    else:\n",
    "        print(\"NO match\")"
   ]
  },
  {
   "cell_type": "code",
   "execution_count": 24,
   "metadata": {},
   "outputs": [],
   "source": [
    "discount_codes = [\"P1234674\",\"s-1234214\",\"P-1234214\",\"k-1234214\",\n",
    "                 \"k-86734214\",\"s-1234209\",\"P-1234214\",\"P-1234214\",\n",
    "                 \"g-1234274\",\"s-2254214\",\"s4234212\",\"P-1234214\"\n",
    "                 \"P-1234098\",\"w-1234214\",\"w-1234214\",\"u-1234214\"]"
   ]
  },
  {
   "cell_type": "raw",
   "metadata": {},
   "source": [
    "pattern = r\"[Ps]-\"\n",
    "\n",
    "for c in discount_codes:\n",
    "    if re.search(pattern,c):\n",
    "        print(c)"
   ]
  },
  {
   "cell_type": "markdown",
   "metadata": {},
   "source": [
    "[012456789]"
   ]
  },
  {
   "cell_type": "markdown",
   "metadata": {},
   "source": [
    "Ranges"
   ]
  },
  {
   "cell_type": "raw",
   "metadata": {},
   "source": [
    "[a-g] -> abcdefg\n",
    "[0-9] -> 0123456789\n",
    "[Aa-Ee] -> AaBbCcDdEe"
   ]
  },
  {
   "cell_type": "raw",
   "metadata": {},
   "source": [
    "email = \"ghayas@gmail.com\"\n",
    "\n",
    "\".\" everything is included except new line chracter \\n\n",
    "\"\\w\" [Aa0-Zz9]\n",
    "\"\\d\" [0-9]"
   ]
  },
  {
   "cell_type": "markdown",
   "metadata": {},
   "source": [
    "# Quantifiers"
   ]
  },
  {
   "cell_type": "markdown",
   "metadata": {},
   "source": [
    "## Numeric quantifiers"
   ]
  },
  {
   "cell_type": "raw",
   "metadata": {},
   "source": [
    "Quantifier         Pattern       explanation\n",
    "\n",
    "Numeric            a{3}          The character a three times \n",
    "                   a{3,5}        The character a three four or five time \n",
    "                   a{,3}         The character a zero one two three times\n",
    "                   a{3,}         The character a eight or more time"
   ]
  },
  {
   "cell_type": "code",
   "execution_count": 40,
   "metadata": {},
   "outputs": [],
   "source": [
    "\"reddddd\"\n",
    "\n",
    "pattern = \"red{5}\"\n",
    "pattern = \"red+\"\n"
   ]
  },
  {
   "cell_type": "markdown",
   "metadata": {},
   "source": [
    "## Single chracter quantifier"
   ]
  },
  {
   "cell_type": "raw",
   "metadata": {},
   "source": [
    "quantifier     pattern       equivelent        explanation\n",
    "\n",
    "Numeric        a*             a{0,}            the character a zero or more times\n",
    "\n",
    "one or more    a+             a{1,}            the chracter a one and more times\n",
    "\n",
    "optional       a?             a{0,1}            the character a zero or one time "
   ]
  },
  {
   "cell_type": "code",
   "execution_count": 33,
   "metadata": {},
   "outputs": [],
   "source": [
    "numbers = [\"123-0987-123\", \"432-0987-567\",\"0987678543\", \"1233-312121,11\",\"12223432098\",\"678-0987-231\"]"
   ]
  },
  {
   "cell_type": "code",
   "execution_count": 35,
   "metadata": {},
   "outputs": [
    {
     "name": "stdout",
     "output_type": "stream",
     "text": [
      "123-0987-123\n",
      "432-0987-567\n",
      "0987678543\n",
      "12223432098\n",
      "678-0987-231\n"
     ]
    }
   ],
   "source": [
    "pattern = r\"[0-9]{3}-?[0-9]{4}-?[0-9]{3}\"\n",
    "\n",
    "for i in numbers:\n",
    "    if re.search(pattern,i):\n",
    "        print(i)"
   ]
  },
  {
   "cell_type": "code",
   "execution_count": 36,
   "metadata": {},
   "outputs": [
    {
     "name": "stdout",
     "output_type": "stream",
     "text": [
      "123-0987-123\n",
      "432-0987-567\n",
      "0987678543\n",
      "12223432098\n",
      "678-0987-231\n"
     ]
    }
   ],
   "source": [
    "pattern = r\"\\d{3}-?\\d{4}-?\\d{3}\"\n",
    "\n",
    "for i in numbers:\n",
    "    if re.search(pattern,i):\n",
    "        print(i)"
   ]
  },
  {
   "cell_type": "code",
   "execution_count": 37,
   "metadata": {},
   "outputs": [],
   "source": [
    "emails = [\"test@example.com\", \"late@example.com\", \"ghayas@gmail.com\",\"answwerthepublic.com\", \"numeric@.com\",\"nine@gmail.com\",\n",
    "         \"away@gmail.com\"]"
   ]
  },
  {
   "cell_type": "code",
   "execution_count": 38,
   "metadata": {},
   "outputs": [
    {
     "name": "stdout",
     "output_type": "stream",
     "text": [
      "test@example.com\n",
      "late@example.com\n"
     ]
    }
   ],
   "source": [
    "pattern = r\"[\\w.]+@example.com\"\n",
    "\n",
    "for i in emails:\n",
    "    if re.search(pattern,i):\n",
    "        print(i)"
   ]
  },
  {
   "cell_type": "code",
   "execution_count": 39,
   "metadata": {},
   "outputs": [
    {
     "name": "stdout",
     "output_type": "stream",
     "text": [
      "test@example.com\n",
      "late@example.com\n",
      "ghayas@gmail.com\n",
      "nine@gmail.com\n",
      "away@gmail.com\n"
     ]
    }
   ],
   "source": [
    "pattern = r\"[\\w.]+@\\w+[.]com\"\n",
    "\n",
    "for i in emails:\n",
    "    if re.search(pattern,i):\n",
    "        print(i)"
   ]
  },
  {
   "cell_type": "markdown",
   "metadata": {},
   "source": [
    "# Errors handling"
   ]
  },
  {
   "cell_type": "markdown",
   "metadata": {},
   "source": [
    "## Exception handling"
   ]
  },
  {
   "cell_type": "markdown",
   "metadata": {},
   "source": [
    "* Try\n",
    "* Except\n",
    "* finally"
   ]
  },
  {
   "cell_type": "code",
   "execution_count": 2,
   "metadata": {},
   "outputs": [
    {
     "data": {
      "text/plain": [
       "4.5"
      ]
     },
     "execution_count": 2,
     "metadata": {},
     "output_type": "execute_result"
    }
   ],
   "source": [
    "num1 = 9\n",
    "num2 = 2\n",
    "num1/num2"
   ]
  },
  {
   "cell_type": "code",
   "execution_count": 3,
   "metadata": {},
   "outputs": [
    {
     "ename": "ZeroDivisionError",
     "evalue": "division by zero",
     "output_type": "error",
     "traceback": [
      "\u001b[1;31m---------------------------------------------------------------------------\u001b[0m",
      "\u001b[1;31mZeroDivisionError\u001b[0m                         Traceback (most recent call last)",
      "\u001b[1;32m<ipython-input-3-585074c140a2>\u001b[0m in \u001b[0;36m<module>\u001b[1;34m\u001b[0m\n\u001b[0;32m      1\u001b[0m \u001b[0mnum1\u001b[0m \u001b[1;33m=\u001b[0m \u001b[1;36m9\u001b[0m\u001b[1;33m\u001b[0m\u001b[1;33m\u001b[0m\u001b[0m\n\u001b[0;32m      2\u001b[0m \u001b[0mnum2\u001b[0m \u001b[1;33m=\u001b[0m \u001b[1;36m0\u001b[0m\u001b[1;33m\u001b[0m\u001b[1;33m\u001b[0m\u001b[0m\n\u001b[1;32m----> 3\u001b[1;33m \u001b[0mnum1\u001b[0m\u001b[1;33m/\u001b[0m\u001b[0mnum2\u001b[0m\u001b[1;33m\u001b[0m\u001b[1;33m\u001b[0m\u001b[0m\n\u001b[0m",
      "\u001b[1;31mZeroDivisionError\u001b[0m: division by zero"
     ]
    }
   ],
   "source": [
    "num1 = 9\n",
    "num2 = 0\n",
    "num1/num2"
   ]
  },
  {
   "cell_type": "code",
   "execution_count": 4,
   "metadata": {},
   "outputs": [
    {
     "ename": "TypeError",
     "evalue": "unsupported operand type(s) for /: 'int' and 'str'",
     "output_type": "error",
     "traceback": [
      "\u001b[1;31m---------------------------------------------------------------------------\u001b[0m",
      "\u001b[1;31mTypeError\u001b[0m                                 Traceback (most recent call last)",
      "\u001b[1;32m<ipython-input-4-fd48dbce1e91>\u001b[0m in \u001b[0;36m<module>\u001b[1;34m\u001b[0m\n\u001b[0;32m      2\u001b[0m \u001b[0mnum2\u001b[0m \u001b[1;33m=\u001b[0m \u001b[1;36m2\u001b[0m\u001b[1;33m\u001b[0m\u001b[1;33m\u001b[0m\u001b[0m\n\u001b[0;32m      3\u001b[0m \u001b[0mnum3\u001b[0m \u001b[1;33m=\u001b[0m \u001b[1;34m\"three\"\u001b[0m\u001b[1;33m\u001b[0m\u001b[1;33m\u001b[0m\u001b[0m\n\u001b[1;32m----> 4\u001b[1;33m \u001b[0mnum1\u001b[0m\u001b[1;33m/\u001b[0m\u001b[0mnum3\u001b[0m\u001b[1;33m\u001b[0m\u001b[1;33m\u001b[0m\u001b[0m\n\u001b[0m",
      "\u001b[1;31mTypeError\u001b[0m: unsupported operand type(s) for /: 'int' and 'str'"
     ]
    }
   ],
   "source": [
    "num1 = 9\n",
    "num2 = 2\n",
    "num3 = \"three\"\n",
    "num1/num3"
   ]
  },
  {
   "cell_type": "code",
   "execution_count": 5,
   "metadata": {},
   "outputs": [
    {
     "name": "stdout",
     "output_type": "stream",
     "text": [
      "Please provide integer number\n"
     ]
    }
   ],
   "source": [
    "try:\n",
    "    div_num = num1/num3\n",
    "    print(f\"your answer is this{div_num}\")\n",
    "    \n",
    "except ZeroDivisionError:\n",
    "    print(\"Please do not use zero\")\n",
    "    \n",
    "except TypeError:\n",
    "    print(\"Please provide integer number\")"
   ]
  },
  {
   "cell_type": "code",
   "execution_count": 6,
   "metadata": {},
   "outputs": [
    {
     "name": "stdout",
     "output_type": "stream",
     "text": [
      "Please provide integer number\n",
      "Thank you for using caculator\n"
     ]
    }
   ],
   "source": [
    "try:\n",
    "    div_num = num1/num3\n",
    "    print(f\"your answer is this{div_num}\")\n",
    "    \n",
    "except ZeroDivisionError:\n",
    "    print(\"Please do not use zero\")\n",
    "    \n",
    "except TypeError:\n",
    "    print(\"Please provide integer number\")\n",
    "    \n",
    "finally:\n",
    "    print(\"Thank you for using caculator\")"
   ]
  },
  {
   "cell_type": "code",
   "execution_count": null,
   "metadata": {},
   "outputs": [],
   "source": []
  }
 ],
 "metadata": {
  "kernelspec": {
   "display_name": "Python 3",
   "language": "python",
   "name": "python3"
  },
  "language_info": {
   "codemirror_mode": {
    "name": "ipython",
    "version": 3
   },
   "file_extension": ".py",
   "mimetype": "text/x-python",
   "name": "python",
   "nbconvert_exporter": "python",
   "pygments_lexer": "ipython3",
   "version": "3.8.5"
  }
 },
 "nbformat": 4,
 "nbformat_minor": 4
}
