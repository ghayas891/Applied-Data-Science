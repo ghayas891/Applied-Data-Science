{
 "cells": [
  {
   "cell_type": "code",
   "execution_count": 1,
   "metadata": {},
   "outputs": [],
   "source": [
    "import pandas as pd "
   ]
  },
  {
   "cell_type": "code",
   "execution_count": 2,
   "metadata": {},
   "outputs": [],
   "source": [
    "dss = pd.read_csv(\"Data_Sciecne_Survey.csv\")"
   ]
  },
  {
   "cell_type": "code",
   "execution_count": 3,
   "metadata": {},
   "outputs": [
    {
     "data": {
      "text/html": [
       "<div>\n",
       "<style scoped>\n",
       "    .dataframe tbody tr th:only-of-type {\n",
       "        vertical-align: middle;\n",
       "    }\n",
       "\n",
       "    .dataframe tbody tr th {\n",
       "        vertical-align: top;\n",
       "    }\n",
       "\n",
       "    .dataframe thead th {\n",
       "        text-align: right;\n",
       "    }\n",
       "</style>\n",
       "<table border=\"1\" class=\"dataframe\">\n",
       "  <thead>\n",
       "    <tr style=\"text-align: right;\">\n",
       "      <th></th>\n",
       "      <th>experience_coding</th>\n",
       "      <th>python_user</th>\n",
       "      <th>r_user</th>\n",
       "      <th>sql_user</th>\n",
       "      <th>most_used</th>\n",
       "      <th>compensation</th>\n",
       "    </tr>\n",
       "  </thead>\n",
       "  <tbody>\n",
       "    <tr>\n",
       "      <th>0</th>\n",
       "      <td>6.1</td>\n",
       "      <td>True</td>\n",
       "      <td>False</td>\n",
       "      <td>True</td>\n",
       "      <td>Scikit-learn</td>\n",
       "      <td>124267</td>\n",
       "    </tr>\n",
       "    <tr>\n",
       "      <th>1</th>\n",
       "      <td>12.3</td>\n",
       "      <td>True</td>\n",
       "      <td>True</td>\n",
       "      <td>True</td>\n",
       "      <td>Scikit-learn</td>\n",
       "      <td>236889</td>\n",
       "    </tr>\n",
       "    <tr>\n",
       "      <th>2</th>\n",
       "      <td>2.2</td>\n",
       "      <td>True</td>\n",
       "      <td>False</td>\n",
       "      <td>False</td>\n",
       "      <td>None</td>\n",
       "      <td>74321</td>\n",
       "    </tr>\n",
       "    <tr>\n",
       "      <th>3</th>\n",
       "      <td>2.7</td>\n",
       "      <td>False</td>\n",
       "      <td>False</td>\n",
       "      <td>True</td>\n",
       "      <td>None</td>\n",
       "      <td>62593</td>\n",
       "    </tr>\n",
       "    <tr>\n",
       "      <th>4</th>\n",
       "      <td>1.2</td>\n",
       "      <td>True</td>\n",
       "      <td>False</td>\n",
       "      <td>False</td>\n",
       "      <td>Scikit-learn</td>\n",
       "      <td>36288</td>\n",
       "    </tr>\n",
       "  </tbody>\n",
       "</table>\n",
       "</div>"
      ],
      "text/plain": [
       "   experience_coding  python_user  r_user  sql_user     most_used  \\\n",
       "0                6.1         True   False      True  Scikit-learn   \n",
       "1               12.3         True    True      True  Scikit-learn   \n",
       "2                2.2         True   False     False          None   \n",
       "3                2.7        False   False      True          None   \n",
       "4                1.2         True   False     False  Scikit-learn   \n",
       "\n",
       "   compensation  \n",
       "0        124267  \n",
       "1        236889  \n",
       "2         74321  \n",
       "3         62593  \n",
       "4         36288  "
      ]
     },
     "execution_count": 3,
     "metadata": {},
     "output_type": "execute_result"
    }
   ],
   "source": [
    "dss.head()"
   ]
  },
  {
   "cell_type": "code",
   "execution_count": 4,
   "metadata": {},
   "outputs": [
    {
     "data": {
      "text/html": [
       "<div>\n",
       "<style scoped>\n",
       "    .dataframe tbody tr th:only-of-type {\n",
       "        vertical-align: middle;\n",
       "    }\n",
       "\n",
       "    .dataframe tbody tr th {\n",
       "        vertical-align: top;\n",
       "    }\n",
       "\n",
       "    .dataframe thead th {\n",
       "        text-align: right;\n",
       "    }\n",
       "</style>\n",
       "<table border=\"1\" class=\"dataframe\">\n",
       "  <thead>\n",
       "    <tr style=\"text-align: right;\">\n",
       "      <th></th>\n",
       "      <th>experience_coding</th>\n",
       "      <th>compensation</th>\n",
       "    </tr>\n",
       "  </thead>\n",
       "  <tbody>\n",
       "    <tr>\n",
       "      <th>count</th>\n",
       "      <td>25973.000000</td>\n",
       "      <td>2.597300e+04</td>\n",
       "    </tr>\n",
       "    <tr>\n",
       "      <th>mean</th>\n",
       "      <td>5.297232</td>\n",
       "      <td>5.325282e+04</td>\n",
       "    </tr>\n",
       "    <tr>\n",
       "      <th>std</th>\n",
       "      <td>6.898151</td>\n",
       "      <td>8.008224e+04</td>\n",
       "    </tr>\n",
       "    <tr>\n",
       "      <th>min</th>\n",
       "      <td>0.000000</td>\n",
       "      <td>0.000000e+00</td>\n",
       "    </tr>\n",
       "    <tr>\n",
       "      <th>25%</th>\n",
       "      <td>0.950000</td>\n",
       "      <td>7.702000e+03</td>\n",
       "    </tr>\n",
       "    <tr>\n",
       "      <th>50%</th>\n",
       "      <td>2.500000</td>\n",
       "      <td>5.401000e+04</td>\n",
       "    </tr>\n",
       "    <tr>\n",
       "      <th>75%</th>\n",
       "      <td>6.000000</td>\n",
       "      <td>6.748000e+04</td>\n",
       "    </tr>\n",
       "    <tr>\n",
       "      <th>max</th>\n",
       "      <td>30.000000</td>\n",
       "      <td>1.492951e+06</td>\n",
       "    </tr>\n",
       "  </tbody>\n",
       "</table>\n",
       "</div>"
      ],
      "text/plain": [
       "       experience_coding  compensation\n",
       "count       25973.000000  2.597300e+04\n",
       "mean            5.297232  5.325282e+04\n",
       "std             6.898151  8.008224e+04\n",
       "min             0.000000  0.000000e+00\n",
       "25%             0.950000  7.702000e+03\n",
       "50%             2.500000  5.401000e+04\n",
       "75%             6.000000  6.748000e+04\n",
       "max            30.000000  1.492951e+06"
      ]
     },
     "execution_count": 4,
     "metadata": {},
     "output_type": "execute_result"
    }
   ],
   "source": [
    "dss.describe()"
   ]
  },
  {
   "cell_type": "code",
   "execution_count": 5,
   "metadata": {},
   "outputs": [
    {
     "name": "stdout",
     "output_type": "stream",
     "text": [
      "<class 'pandas.core.frame.DataFrame'>\n",
      "RangeIndex: 25973 entries, 0 to 25972\n",
      "Data columns (total 6 columns):\n",
      " #   Column             Non-Null Count  Dtype  \n",
      "---  ------             --------------  -----  \n",
      " 0   experience_coding  25973 non-null  float64\n",
      " 1   python_user        25973 non-null  bool   \n",
      " 2   r_user             25973 non-null  bool   \n",
      " 3   sql_user           25973 non-null  bool   \n",
      " 4   most_used          25973 non-null  object \n",
      " 5   compensation       25973 non-null  int64  \n",
      "dtypes: bool(3), float64(1), int64(1), object(1)\n",
      "memory usage: 685.0+ KB\n"
     ]
    }
   ],
   "source": [
    "dss.info()"
   ]
  },
  {
   "cell_type": "code",
   "execution_count": 6,
   "metadata": {},
   "outputs": [],
   "source": [
    "def catego_exp(experience_coding):\n",
    "    if experience_coding < 5:\n",
    "        return \"Less then 5 years\"\n",
    "    elif experience_coding in range(5,11):\n",
    "        return \"5-10 years\"\n",
    "    elif experience_coding in range(11,16):\n",
    "        return \"10-15 years\"\n",
    "    elif experience_coding in range(16,21):\n",
    "        return \"15-20 years\"\n",
    "    elif experience_coding in range(21,26):\n",
    "        return \"20-25 years\"\n",
    "    else:\n",
    "        return \"25+ years\""
   ]
  },
  {
   "cell_type": "code",
   "execution_count": 7,
   "metadata": {},
   "outputs": [
    {
     "data": {
      "text/plain": [
       "0                25+ years\n",
       "1                25+ years\n",
       "2        Less then 5 years\n",
       "3        Less then 5 years\n",
       "4        Less then 5 years\n",
       "               ...        \n",
       "25968    Less then 5 years\n",
       "25969    Less then 5 years\n",
       "25970    Less then 5 years\n",
       "25971            25+ years\n",
       "25972    Less then 5 years\n",
       "Name: experience_coding, Length: 25973, dtype: object"
      ]
     },
     "execution_count": 7,
     "metadata": {},
     "output_type": "execute_result"
    }
   ],
   "source": [
    "dss[\"experience_coding\"].apply(catego_exp)"
   ]
  },
  {
   "cell_type": "code",
   "execution_count": 8,
   "metadata": {},
   "outputs": [],
   "source": [
    "dss[\"experience_coding_catego\"] = dss[\"experience_coding\"].apply(catego_exp)"
   ]
  },
  {
   "cell_type": "code",
   "execution_count": 9,
   "metadata": {},
   "outputs": [
    {
     "data": {
      "text/html": [
       "<div>\n",
       "<style scoped>\n",
       "    .dataframe tbody tr th:only-of-type {\n",
       "        vertical-align: middle;\n",
       "    }\n",
       "\n",
       "    .dataframe tbody tr th {\n",
       "        vertical-align: top;\n",
       "    }\n",
       "\n",
       "    .dataframe thead th {\n",
       "        text-align: right;\n",
       "    }\n",
       "</style>\n",
       "<table border=\"1\" class=\"dataframe\">\n",
       "  <thead>\n",
       "    <tr style=\"text-align: right;\">\n",
       "      <th></th>\n",
       "      <th>experience_coding</th>\n",
       "      <th>python_user</th>\n",
       "      <th>r_user</th>\n",
       "      <th>sql_user</th>\n",
       "      <th>most_used</th>\n",
       "      <th>compensation</th>\n",
       "      <th>experience_coding_catego</th>\n",
       "    </tr>\n",
       "  </thead>\n",
       "  <tbody>\n",
       "    <tr>\n",
       "      <th>0</th>\n",
       "      <td>6.1</td>\n",
       "      <td>True</td>\n",
       "      <td>False</td>\n",
       "      <td>True</td>\n",
       "      <td>Scikit-learn</td>\n",
       "      <td>124267</td>\n",
       "      <td>25+ years</td>\n",
       "    </tr>\n",
       "    <tr>\n",
       "      <th>1</th>\n",
       "      <td>12.3</td>\n",
       "      <td>True</td>\n",
       "      <td>True</td>\n",
       "      <td>True</td>\n",
       "      <td>Scikit-learn</td>\n",
       "      <td>236889</td>\n",
       "      <td>25+ years</td>\n",
       "    </tr>\n",
       "    <tr>\n",
       "      <th>2</th>\n",
       "      <td>2.2</td>\n",
       "      <td>True</td>\n",
       "      <td>False</td>\n",
       "      <td>False</td>\n",
       "      <td>None</td>\n",
       "      <td>74321</td>\n",
       "      <td>Less then 5 years</td>\n",
       "    </tr>\n",
       "    <tr>\n",
       "      <th>3</th>\n",
       "      <td>2.7</td>\n",
       "      <td>False</td>\n",
       "      <td>False</td>\n",
       "      <td>True</td>\n",
       "      <td>None</td>\n",
       "      <td>62593</td>\n",
       "      <td>Less then 5 years</td>\n",
       "    </tr>\n",
       "    <tr>\n",
       "      <th>4</th>\n",
       "      <td>1.2</td>\n",
       "      <td>True</td>\n",
       "      <td>False</td>\n",
       "      <td>False</td>\n",
       "      <td>Scikit-learn</td>\n",
       "      <td>36288</td>\n",
       "      <td>Less then 5 years</td>\n",
       "    </tr>\n",
       "  </tbody>\n",
       "</table>\n",
       "</div>"
      ],
      "text/plain": [
       "   experience_coding  python_user  r_user  sql_user     most_used  \\\n",
       "0                6.1         True   False      True  Scikit-learn   \n",
       "1               12.3         True    True      True  Scikit-learn   \n",
       "2                2.2         True   False     False          None   \n",
       "3                2.7        False   False      True          None   \n",
       "4                1.2         True   False     False  Scikit-learn   \n",
       "\n",
       "   compensation experience_coding_catego  \n",
       "0        124267                25+ years  \n",
       "1        236889                25+ years  \n",
       "2         74321        Less then 5 years  \n",
       "3         62593        Less then 5 years  \n",
       "4         36288        Less then 5 years  "
      ]
     },
     "execution_count": 9,
     "metadata": {},
     "output_type": "execute_result"
    }
   ],
   "source": [
    "dss.head()"
   ]
  },
  {
   "cell_type": "code",
   "execution_count": 12,
   "metadata": {},
   "outputs": [
    {
     "data": {
      "text/plain": [
       "experience_coding_catego\n",
       "10-15 years           65231.50\n",
       "15-20 years           82758.38\n",
       "20-25 years          125575.79\n",
       "25+ years             74884.86\n",
       "5-10 years            56392.02\n",
       "Less then 5 years     45047.87\n",
       "Name: compensation, dtype: float64"
      ]
     },
     "execution_count": 12,
     "metadata": {},
     "output_type": "execute_result"
    }
   ],
   "source": [
    "dss.groupby(\"experience_coding_catego\")[\"compensation\"].mean().round(2)"
   ]
  },
  {
   "cell_type": "code",
   "execution_count": null,
   "metadata": {},
   "outputs": [],
   "source": []
  }
 ],
 "metadata": {
  "kernelspec": {
   "display_name": "Python 3",
   "language": "python",
   "name": "python3"
  },
  "language_info": {
   "codemirror_mode": {
    "name": "ipython",
    "version": 3
   },
   "file_extension": ".py",
   "mimetype": "text/x-python",
   "name": "python",
   "nbconvert_exporter": "python",
   "pygments_lexer": "ipython3",
   "version": "3.8.5"
  }
 },
 "nbformat": 4,
 "nbformat_minor": 4
}
