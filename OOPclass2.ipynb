{
 "cells": [
  {
   "cell_type": "code",
   "execution_count": 7,
   "metadata": {},
   "outputs": [],
   "source": [
    "class Animal:\n",
    "    def __init__(self, name,age):\n",
    "        self.name = name\n",
    "        self.age = age\n",
    "    def display(self):\n",
    "        print(f\"Name {self.name} Age {self.age}\")"
   ]
  },
  {
   "cell_type": "code",
   "execution_count": 8,
   "metadata": {},
   "outputs": [],
   "source": [
    "elephant = Animal(\"Bubbles\",3)"
   ]
  },
  {
   "cell_type": "code",
   "execution_count": 9,
   "metadata": {},
   "outputs": [
    {
     "name": "stdout",
     "output_type": "stream",
     "text": [
      "<__main__.Animal object at 0x000001BAE4DB76A0>\n"
     ]
    }
   ],
   "source": [
    "print(elephant)"
   ]
  },
  {
   "cell_type": "code",
   "execution_count": 10,
   "metadata": {},
   "outputs": [
    {
     "name": "stdout",
     "output_type": "stream",
     "text": [
      "Name Bubbles Age 3\n"
     ]
    }
   ],
   "source": [
    "elephant.display()"
   ]
  },
  {
   "cell_type": "code",
   "execution_count": 15,
   "metadata": {},
   "outputs": [],
   "source": [
    "class Elephant(Animal):#inheritance concept\n",
    "    pass"
   ]
  },
  {
   "cell_type": "code",
   "execution_count": 12,
   "metadata": {},
   "outputs": [
    {
     "ename": "TypeError",
     "evalue": "__init__() missing 2 required positional arguments: 'name' and 'age'",
     "output_type": "error",
     "traceback": [
      "\u001b[1;31m---------------------------------------------------------------------------\u001b[0m",
      "\u001b[1;31mTypeError\u001b[0m                                 Traceback (most recent call last)",
      "\u001b[1;32m<ipython-input-12-e0dcb02ff952>\u001b[0m in \u001b[0;36m<module>\u001b[1;34m\u001b[0m\n\u001b[1;32m----> 1\u001b[1;33m \u001b[0mbubble\u001b[0m \u001b[1;33m=\u001b[0m \u001b[0mElephant\u001b[0m\u001b[1;33m(\u001b[0m\u001b[1;33m)\u001b[0m\u001b[1;33m\u001b[0m\u001b[1;33m\u001b[0m\u001b[0m\n\u001b[0m",
      "\u001b[1;31mTypeError\u001b[0m: __init__() missing 2 required positional arguments: 'name' and 'age'"
     ]
    }
   ],
   "source": [
    "bubble = Elephant()"
   ]
  },
  {
   "cell_type": "code",
   "execution_count": 13,
   "metadata": {},
   "outputs": [],
   "source": [
    "bubble = Elephant(\"dude\", 5)"
   ]
  },
  {
   "cell_type": "code",
   "execution_count": 14,
   "metadata": {},
   "outputs": [
    {
     "name": "stdout",
     "output_type": "stream",
     "text": [
      "Name dude Age 5\n"
     ]
    }
   ],
   "source": [
    "bubble.display()"
   ]
  },
  {
   "cell_type": "code",
   "execution_count": 16,
   "metadata": {},
   "outputs": [],
   "source": [
    "class Animal:\n",
    "    def __init__(self, name,age):\n",
    "        self.name = name\n",
    "        self.age = age\n",
    "    def display(self):\n",
    "        print(f\"Name {self.name} Age {self.age}\")"
   ]
  },
  {
   "cell_type": "code",
   "execution_count": 19,
   "metadata": {},
   "outputs": [],
   "source": [
    "class Elephant(Animal):#inheritance concept\n",
    "    def __init__(self,name,age,trunk_length):\n",
    "        self.name = name\n",
    "        self.age = age\n",
    "        self.trunk_length = trunk_length\n",
    "        self.description = f\"{self.name} has {self.trunk_length} meter long Trunk\"\n",
    "        "
   ]
  },
  {
   "cell_type": "code",
   "execution_count": 20,
   "metadata": {},
   "outputs": [],
   "source": [
    "baby_elephant = Elephant(\"Tiny\",2,0.2)"
   ]
  },
  {
   "cell_type": "code",
   "execution_count": 21,
   "metadata": {},
   "outputs": [
    {
     "name": "stdout",
     "output_type": "stream",
     "text": [
      "Name Tiny Age 2\n"
     ]
    }
   ],
   "source": [
    "baby_elephant.display()"
   ]
  },
  {
   "cell_type": "code",
   "execution_count": 22,
   "metadata": {},
   "outputs": [
    {
     "data": {
      "text/plain": [
       "'Tiny has 0.2 meter long Trunk'"
      ]
     },
     "execution_count": 22,
     "metadata": {},
     "output_type": "execute_result"
    }
   ],
   "source": [
    "baby_elephant.description\n"
   ]
  },
  {
   "cell_type": "code",
   "execution_count": 29,
   "metadata": {},
   "outputs": [],
   "source": [
    "class Animal:\n",
    "    def __init__(self, name,age):\n",
    "        self.name = name\n",
    "        self.age = age\n",
    "    def display(self):\n",
    "        print(f\"Name {self.name} Age {self.age}\")"
   ]
  },
  {
   "cell_type": "code",
   "execution_count": 30,
   "metadata": {},
   "outputs": [],
   "source": [
    "class Elephant(Animal):#inheritance concept\n",
    "    def __init__(self,name,age,trunk_length):\n",
    "        super().__init__(name,age)\n",
    "        self.trunk_length = trunk_length\n",
    "        self.description = f\"{self.name} has {self.trunk_length} meter long Trunk\"\n",
    "        "
   ]
  },
  {
   "cell_type": "code",
   "execution_count": 31,
   "metadata": {},
   "outputs": [],
   "source": [
    "mother_elephant = Elephant(\"Mother\",6,1.5)"
   ]
  },
  {
   "cell_type": "code",
   "execution_count": 32,
   "metadata": {},
   "outputs": [
    {
     "name": "stdout",
     "output_type": "stream",
     "text": [
      "Name Mother Age 6\n"
     ]
    }
   ],
   "source": [
    "mother_elephant.display()"
   ]
  },
  {
   "cell_type": "code",
   "execution_count": 33,
   "metadata": {},
   "outputs": [
    {
     "data": {
      "text/plain": [
       "'Mother has 1.5 meter long Trunk'"
      ]
     },
     "execution_count": 33,
     "metadata": {},
     "output_type": "execute_result"
    }
   ],
   "source": [
    "mother_elephant.description"
   ]
  },
  {
   "cell_type": "code",
   "execution_count": null,
   "metadata": {},
   "outputs": [],
   "source": [
    "class Animal:\n",
    "    def __init__(self, name,age):\n",
    "        self.name = name\n",
    "        self.age = age\n",
    "    def display(self):\n",
    "        print(f\"Name {self.name} Age {self.age}\")\n",
    "        \n",
    "    def eat(self):\n",
    "        print(\"animal is eating\")"
   ]
  },
  {
   "cell_type": "code",
   "execution_count": 35,
   "metadata": {},
   "outputs": [],
   "source": [
    "class Elephant(Animal):#inheritance concept\n",
    "    def __init__(self,name,age,trunk_length):\n",
    "        super().__init__(name,age)\n",
    "        self.trunk_length = trunk_length\n",
    "        self.description = f\"{self.name} has {self.trunk_length} meter long Trunk\"\n",
    "        \n",
    "    def eat(self):\n",
    "        print(f\"{self.name} is having some leaves\")#concept of overright"
   ]
  },
  {
   "cell_type": "code",
   "execution_count": 36,
   "metadata": {},
   "outputs": [],
   "source": [
    "mother = Elephant(\"mother\",6,1.9)"
   ]
  },
  {
   "cell_type": "code",
   "execution_count": 37,
   "metadata": {},
   "outputs": [
    {
     "name": "stdout",
     "output_type": "stream",
     "text": [
      "mother is having some leaves\n"
     ]
    }
   ],
   "source": [
    "mother.eat()"
   ]
  },
  {
   "cell_type": "code",
   "execution_count": 38,
   "metadata": {},
   "outputs": [],
   "source": [
    "class Animal:\n",
    "    def __init__(self, name,age):\n",
    "        self.name = name\n",
    "        self.age = age\n",
    "    def display(self):\n",
    "        print(f\"Name {self.name} Age {self.age}\")\n",
    "        \n",
    "    def eat(self):\n",
    "        print(\"animal is eating\")\n",
    "        \n",
    "        \n",
    "class Elephant(Animal):#inheritance concept\n",
    "    def __init__(self,name,age,trunk_length):\n",
    "        super().__init__(name,age)\n",
    "        self.trunk_length = trunk_length\n",
    "        self.description = f\"{self.name} has {self.trunk_length} meter long Trunk\"\n",
    "        \n",
    "    def eat(self):\n",
    "        super().eat()\n",
    "        print(f\"{self.name} is having some leaves\")#concept of overright"
   ]
  },
  {
   "cell_type": "code",
   "execution_count": 40,
   "metadata": {},
   "outputs": [],
   "source": [
    "mother = Elephant(\"Mother elephant \" ,4,1.5)"
   ]
  },
  {
   "cell_type": "code",
   "execution_count": 42,
   "metadata": {},
   "outputs": [
    {
     "name": "stdout",
     "output_type": "stream",
     "text": [
      "animal is eating\n",
      "Mother elephant  is having some leaves\n"
     ]
    }
   ],
   "source": [
    "mother.eat()"
   ]
  },
  {
   "cell_type": "markdown",
   "metadata": {},
   "source": [
    "# PolyMorphism"
   ]
  },
  {
   "cell_type": "code",
   "execution_count": 1,
   "metadata": {},
   "outputs": [],
   "source": [
    "class Animal:\n",
    "    def __init__(self, name,age):\n",
    "        self.name = name\n",
    "        self.age = age\n",
    "    def display(self):\n",
    "        print(f\"Name {self.name} Age {self.age}\")\n",
    "        \n",
    "    def eat(self):\n",
    "        print(\"animal is eating\")\n",
    "        \n",
    "    def move(self): #declared here but use in next class\n",
    "        pass\n",
    "        \n",
    "        \n",
    "class Elephant(Animal):#inheritance concept\n",
    "    def __init__(self,name,age,trunk_length):\n",
    "        super().__init__(name,age)\n",
    "        self.trunk_length = trunk_length\n",
    "        self.description = f\"{self.name} has {self.trunk_length} meter long Trunk\"\n",
    "        \n",
    "    def eat(self):\n",
    "        super().eat()\n",
    "        print(f\"{self.name} is having some leaves\")#concept of overright\n",
    "        \n",
    "    def move(self):#polymorphism concept\n",
    "        print(f\"{self.name} is ambling\")"
   ]
  },
  {
   "cell_type": "code",
   "execution_count": 2,
   "metadata": {},
   "outputs": [],
   "source": [
    "elephant = Elephant(\"poly\",12,1.6)"
   ]
  },
  {
   "cell_type": "code",
   "execution_count": 3,
   "metadata": {},
   "outputs": [
    {
     "name": "stdout",
     "output_type": "stream",
     "text": [
      "poly is ambling\n"
     ]
    }
   ],
   "source": [
    "elephant.move()"
   ]
  },
  {
   "cell_type": "markdown",
   "metadata": {},
   "source": [
    "# Encapsulation"
   ]
  },
  {
   "cell_type": "code",
   "execution_count": 6,
   "metadata": {},
   "outputs": [],
   "source": [
    "class Animal:\n",
    "    def __init__(self, name,age):\n",
    "        self.name = name\n",
    "        self.age = age\n",
    "        self._is_hungry = True \n",
    "    def display(self):\n",
    "        print(f\"Name {self.name} Age {self.age}\")\n",
    "        \n",
    "    def eat(self):\n",
    "        print(\"animal is eating\")\n",
    "        self._is_hungry = False\n",
    "        \n",
    "    def move(self): #declared here but use in next class\n",
    "        pass\n",
    "        \n",
    "        \n",
    "class Elephant(Animal):#inheritance concept\n",
    "    def __init__(self,name,age,trunk_length):\n",
    "        super().__init__(name,age)\n",
    "        self.trunk_length = trunk_length\n",
    "        self.description = f\"{self.name} has {self.trunk_length} meter long Trunk\"\n",
    "        \n",
    "    def eat(self):\n",
    "        super().eat()\n",
    "        print(f\"{self.name} is having some leaves\")#concept of overright\n",
    "        \n",
    "    def move(self):#polymorphism concept\n",
    "        print(f\"{self.name} is ambling\")"
   ]
  },
  {
   "cell_type": "code",
   "execution_count": 7,
   "metadata": {},
   "outputs": [],
   "source": [
    "elephant = Elephant(\"poly\",12,1.6)"
   ]
  },
  {
   "cell_type": "code",
   "execution_count": 9,
   "metadata": {},
   "outputs": [
    {
     "data": {
      "text/plain": [
       "True"
      ]
     },
     "execution_count": 9,
     "metadata": {},
     "output_type": "execute_result"
    }
   ],
   "source": [
    "elephant._is_hungry"
   ]
  },
  {
   "cell_type": "code",
   "execution_count": 10,
   "metadata": {},
   "outputs": [
    {
     "name": "stdout",
     "output_type": "stream",
     "text": [
      "animal is eating\n",
      "poly is having some leaves\n"
     ]
    }
   ],
   "source": [
    "elephant.eat()"
   ]
  },
  {
   "cell_type": "code",
   "execution_count": 11,
   "metadata": {},
   "outputs": [
    {
     "data": {
      "text/plain": [
       "False"
      ]
     },
     "execution_count": 11,
     "metadata": {},
     "output_type": "execute_result"
    }
   ],
   "source": [
    "elephant._is_hungry"
   ]
  },
  {
   "cell_type": "code",
   "execution_count": 12,
   "metadata": {},
   "outputs": [],
   "source": [
    "# getter and setter"
   ]
  },
  {
   "cell_type": "code",
   "execution_count": null,
   "metadata": {},
   "outputs": [],
   "source": [
    "class Animal:\n",
    "    def __init__(self, name,age):\n",
    "        self.name = name\n",
    "        self.age = age\n",
    "        self._is_hungry = True \n",
    "    def display(self):\n",
    "        print(f\"Name {self.name} Age {self.age}\")\n",
    "        \n",
    "    def eat(self):\n",
    "        print(\"animal is eating\")\n",
    "        self._is_hungry = False\n",
    "        \n",
    "    def move(self): #declared here but use in next class\n",
    "        pass\n",
    "        \n",
    "        \n",
    "class Elephant(Animal):#inheritance concept\n",
    "    def __init__(self,name,age,trunk_length):\n",
    "        super().__init__(name,age)\n",
    "        self.trunk_length = trunk_length\n",
    "        self.description = f\"{self.name} has {self.trunk_length} meter long Trunk\"\n",
    "        \n",
    "    def eat(self):\n",
    "        super().eat()\n",
    "        print(f\"{self.name} is having some leaves\")#concept of overright\n",
    "        \n",
    "    def move(self):#polymorphism concept\n",
    "        print(f\"{self.name} is ambling\")"
   ]
  },
  {
   "cell_type": "code",
   "execution_count": null,
   "metadata": {},
   "outputs": [],
   "source": []
  },
  {
   "cell_type": "code",
   "execution_count": null,
   "metadata": {},
   "outputs": [],
   "source": []
  },
  {
   "cell_type": "code",
   "execution_count": null,
   "metadata": {},
   "outputs": [],
   "source": []
  },
  {
   "cell_type": "code",
   "execution_count": null,
   "metadata": {},
   "outputs": [],
   "source": []
  },
  {
   "cell_type": "code",
   "execution_count": null,
   "metadata": {},
   "outputs": [],
   "source": []
  },
  {
   "cell_type": "code",
   "execution_count": null,
   "metadata": {},
   "outputs": [],
   "source": []
  }
 ],
 "metadata": {
  "kernelspec": {
   "display_name": "Python 3",
   "language": "python",
   "name": "python3"
  },
  "language_info": {
   "codemirror_mode": {
    "name": "ipython",
    "version": 3
   },
   "file_extension": ".py",
   "mimetype": "text/x-python",
   "name": "python",
   "nbconvert_exporter": "python",
   "pygments_lexer": "ipython3",
   "version": "3.8.5"
  }
 },
 "nbformat": 4,
 "nbformat_minor": 4
}
